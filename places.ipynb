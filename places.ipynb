{
 "cells": [
  {
   "cell_type": "markdown",
   "metadata": {},
   "source": [
    "# WPROWADZENIE\n",
    "\n",
    "**Źródło danych:**\n",
    "https://www.kaggle.com/maricinnamon/harry-potter-movies-dataset-starter-notebook/data\n",
    "\n",
    "**Wykorzystane pliki z setu:** \n",
    "* Places.csv\n",
    "Zawiera informacje dot. wszystkich lokalizacji, które pojawiły się w filmach o Harrym Poterze.\n",
    "\n",
    "**Tezy do sprawdzenia:**\n",
    "1. Ile lokalizacji jest w danej kategorii?\n",
    "2. Ile jest pomieszczeń (komnat, łazienek, etc.) w Hogwarcie?\n",
    "3. Ile jest sklepów i punktów usługowych na Ulicy Pokątnej?"
   ]
  },
  {
   "cell_type": "code",
   "execution_count": 1,
   "metadata": {},
   "outputs": [],
   "source": [
    "import pandas as pd\n",
    "import matplotlib as mpl\n",
    "import matplotlib.pyplot as plt"
   ]
  },
  {
   "cell_type": "code",
   "execution_count": 2,
   "metadata": {},
   "outputs": [],
   "source": [
    "df = pd.read_csv('Harry_Potter_Movies\\Places.csv')"
   ]
  },
  {
   "cell_type": "code",
   "execution_count": 4,
   "metadata": {},
   "outputs": [
    {
     "data": {
      "text/html": [
       "<div>\n",
       "<style scoped>\n",
       "    .dataframe tbody tr th:only-of-type {\n",
       "        vertical-align: middle;\n",
       "    }\n",
       "\n",
       "    .dataframe tbody tr th {\n",
       "        vertical-align: top;\n",
       "    }\n",
       "\n",
       "    .dataframe thead th {\n",
       "        text-align: right;\n",
       "    }\n",
       "</style>\n",
       "<table border=\"1\" class=\"dataframe\">\n",
       "  <thead>\n",
       "    <tr style=\"text-align: right;\">\n",
       "      <th></th>\n",
       "      <th>Place ID</th>\n",
       "      <th>Place Name</th>\n",
       "      <th>Place Category</th>\n",
       "    </tr>\n",
       "  </thead>\n",
       "  <tbody>\n",
       "    <tr>\n",
       "      <th>23</th>\n",
       "      <td>24</td>\n",
       "      <td>Boathouse</td>\n",
       "      <td>Hogwarts</td>\n",
       "    </tr>\n",
       "    <tr>\n",
       "      <th>4</th>\n",
       "      <td>5</td>\n",
       "      <td>The Leaky Cauldron</td>\n",
       "      <td>Diagon Alley</td>\n",
       "    </tr>\n",
       "    <tr>\n",
       "      <th>45</th>\n",
       "      <td>46</td>\n",
       "      <td>Moaning Myrtle's Bathroom</td>\n",
       "      <td>Hogwarts</td>\n",
       "    </tr>\n",
       "    <tr>\n",
       "      <th>71</th>\n",
       "      <td>72</td>\n",
       "      <td>Quidditch World Cup</td>\n",
       "      <td>Other Magical Locations</td>\n",
       "    </tr>\n",
       "    <tr>\n",
       "      <th>69</th>\n",
       "      <td>70</td>\n",
       "      <td>Ministry of Magic</td>\n",
       "      <td>Other Magical Locations</td>\n",
       "    </tr>\n",
       "    <tr>\n",
       "      <th>70</th>\n",
       "      <td>71</td>\n",
       "      <td>Platform Nine and Three-Quarters</td>\n",
       "      <td>Other Magical Locations</td>\n",
       "    </tr>\n",
       "    <tr>\n",
       "      <th>44</th>\n",
       "      <td>45</td>\n",
       "      <td>Middle Courtyard</td>\n",
       "      <td>Hogwarts</td>\n",
       "    </tr>\n",
       "    <tr>\n",
       "      <th>59</th>\n",
       "      <td>60</td>\n",
       "      <td>Tom Riddle's Diary</td>\n",
       "      <td>Hogwarts</td>\n",
       "    </tr>\n",
       "    <tr>\n",
       "      <th>33</th>\n",
       "      <td>34</td>\n",
       "      <td>First-Floor Girls' Toilets</td>\n",
       "      <td>Hogwarts</td>\n",
       "    </tr>\n",
       "    <tr>\n",
       "      <th>52</th>\n",
       "      <td>53</td>\n",
       "      <td>Ravenclaw Tower</td>\n",
       "      <td>Hogwarts</td>\n",
       "    </tr>\n",
       "  </tbody>\n",
       "</table>\n",
       "</div>"
      ],
      "text/plain": [
       "    Place ID                        Place Name           Place Category\n",
       "23        24                         Boathouse                 Hogwarts\n",
       "4          5                The Leaky Cauldron             Diagon Alley\n",
       "45        46         Moaning Myrtle's Bathroom                 Hogwarts\n",
       "71        72               Quidditch World Cup  Other Magical Locations\n",
       "69        70                 Ministry of Magic  Other Magical Locations\n",
       "70        71  Platform Nine and Three-Quarters  Other Magical Locations\n",
       "44        45                  Middle Courtyard                 Hogwarts\n",
       "59        60                Tom Riddle's Diary                 Hogwarts\n",
       "33        34        First-Floor Girls' Toilets                 Hogwarts\n",
       "52        53                   Ravenclaw Tower                 Hogwarts"
      ]
     },
     "execution_count": 4,
     "metadata": {},
     "output_type": "execute_result"
    }
   ],
   "source": [
    "df.sample(10)"
   ]
  },
  {
   "cell_type": "code",
   "execution_count": 3,
   "metadata": {},
   "outputs": [
    {
     "data": {
      "text/plain": [
       "<AxesSubplot:>"
      ]
     },
     "execution_count": 3,
     "metadata": {},
     "output_type": "execute_result"
    },
    {
     "data": {
      "image/png": "[encoded data removed]",
      "text/plain": [
       "<Figure size 432x288 with 1 Axes>"
      ]
     },
     "metadata": {
      "needs_background": "light"
     },
     "output_type": "display_data"
    }
   ],
   "source": [
    "df['Place Category'].value_counts().plot.bar()"
   ]
  }
 ],
 "metadata": {
  "interpreter": {
   "hash": "d4a23020e51e92420bebeba778ab3f9acdf78138040af273c62b07eb489d3429"
  },
  "kernelspec": {
   "display_name": "Python 3.9.1 64-bit",
   "language": "python",
   "name": "python3"
  },
  "language_info": {
   "codemirror_mode": {
    "name": "ipython",
    "version": 3
   },
   "file_extension": ".py",
   "mimetype": "text/x-python",
   "name": "python",
   "nbconvert_exporter": "python",
   "pygments_lexer": "ipython3",
   "version": "3.9.1"
  },
  "orig_nbformat": 4
 },
 "nbformat": 4,
 "nbformat_minor": 2
}
