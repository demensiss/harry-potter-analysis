{
 "cells": [
  {
   "cell_type": "markdown",
   "metadata": {},
   "source": [
    "# Podstawowe informacje\n",
    "\n",
    "**Źródło danych:**\n",
    "https://www.kaggle.com/maricinnamon/harry-potter-movies-dataset-starter-notebook/data\n",
    "\n",
    "**Wykorzystane pliki z setu:** \n",
    "* Movies.csv - zawiera informacje dot. filmów o Harrym Poterze tj. rok produkcji, długość filmu, budżet i wartość sprzedanych biletów.\n",
    "\n",
    "**Dysponując takim zbiorem danych, chce zrobić:**\n",
    "1. Porównanie na wykresie: \n",
    "    * budżetów na każdy film    \n",
    "    * wartość sprzedanych biletów \n",
    "    * faktycznego zysku filmów\n",
    "2. Sprawdzenie czy czas trawania filmu miał wpływ na planowany budżet?\n",
    "3. Sprawdzenie ile łącznie zarobiły filmy o Harrym Potterze?\n",
    "4. Sprawdzenie co ile lat pokazywały się kolejne filmy z serii?"
   ]
  },
  {
   "cell_type": "markdown",
   "metadata": {},
   "source": [
    "### Importowanie bibliotek"
   ]
  },
  {
   "cell_type": "code",
   "execution_count": 38,
   "metadata": {},
   "outputs": [],
   "source": [
    "import pandas as pd\n",
    "import numpy as np\n",
    "import matplotlib as mpl\n",
    "import matplotlib.pyplot as plt"
   ]
  },
  {
   "cell_type": "markdown",
   "metadata": {},
   "source": [
    "### Przygotowanie danych z pliku Movies.csv"
   ]
  },
  {
   "cell_type": "code",
   "execution_count": 39,
   "metadata": {},
   "outputs": [],
   "source": [
    "df_movies = pd.read_csv('Harry_Potter_Movies\\Movies.csv')"
   ]
  },
  {
   "cell_type": "code",
   "execution_count": 40,
   "metadata": {},
   "outputs": [],
   "source": [
    "# Usunięcie znaku $ w kolumnach Budget i Box Office:\n",
    "df_movies['Budget'] = df_movies['Budget'].apply(lambda x: x.split('$')[1])\n",
    "df_movies['Box Office'] = df_movies['Box Office'].apply(lambda x: x.split('$')[1])\n",
    "\n",
    "# Usunięcie znaku przecinku w kolumnach Budget i Box Office:\n",
    "df_movies['Budget'] = df_movies['Budget'].apply(lambda x: int(x.replace(',','')))\n",
    "df_movies['Box Office'] = df_movies['Box Office'].apply(lambda x: int(x.replace(',','')))\n",
    "\n",
    "#Obliczenie faktycznego zysku filmu\n",
    "df_movies['Real Profit'] = df_movies['Box Office'] - df_movies['Budget']"
   ]
  },
  {
   "cell_type": "code",
   "execution_count": 43,
   "metadata": {},
   "outputs": [
    {
     "data": {
      "image/png": "[encoded data removed]",
      "text/plain": [
       "<Figure size 720x360 with 1 Axes>"
      ]
     },
     "metadata": {
      "needs_background": "light"
     },
     "output_type": "display_data"
    }
   ],
   "source": [
    "fig = plt.figure(figsize = (10,5))\n",
    "x_pos = np.arange(len(df_movies['Movie Title']))\n",
    "\n",
    "plt.bar(df_movies['Movie Title'], df_movies['Budget'], color='maroon', width=0.5)\n",
    "plt.xticks(x_pos, rotation=90)\n",
    "plt.title('Budget in the Harry Potter movies', fontweight='bold', fontsize=18)\n",
    "plt.show()"
   ]
  },
  {
   "cell_type": "code",
   "execution_count": 42,
   "metadata": {},
   "outputs": [
    {
     "data": {
      "text/html": [
       "<div>\n",
       "<style scoped>\n",
       "    .dataframe tbody tr th:only-of-type {\n",
       "        vertical-align: middle;\n",
       "    }\n",
       "\n",
       "    .dataframe tbody tr th {\n",
       "        vertical-align: top;\n",
       "    }\n",
       "\n",
       "    .dataframe thead th {\n",
       "        text-align: right;\n",
       "    }\n",
       "</style>\n",
       "<table border=\"1\" class=\"dataframe\">\n",
       "  <thead>\n",
       "    <tr style=\"text-align: right;\">\n",
       "      <th></th>\n",
       "      <th>Movie ID</th>\n",
       "      <th>Movie Title</th>\n",
       "      <th>Release Year</th>\n",
       "      <th>Runtime</th>\n",
       "      <th>Budget</th>\n",
       "      <th>Box Office</th>\n",
       "      <th>Real Profit</th>\n",
       "    </tr>\n",
       "  </thead>\n",
       "  <tbody>\n",
       "    <tr>\n",
       "      <th>0</th>\n",
       "      <td>1</td>\n",
       "      <td>Harry Potter and the Philosopher's Stone</td>\n",
       "      <td>2001</td>\n",
       "      <td>152</td>\n",
       "      <td>125000000</td>\n",
       "      <td>1002000000</td>\n",
       "      <td>877000000</td>\n",
       "    </tr>\n",
       "    <tr>\n",
       "      <th>1</th>\n",
       "      <td>2</td>\n",
       "      <td>Harry Potter and the Chamber of Secrets</td>\n",
       "      <td>2002</td>\n",
       "      <td>161</td>\n",
       "      <td>100000000</td>\n",
       "      <td>880300000</td>\n",
       "      <td>780300000</td>\n",
       "    </tr>\n",
       "    <tr>\n",
       "      <th>2</th>\n",
       "      <td>3</td>\n",
       "      <td>Harry Potter and the Prisoner of Azkaban</td>\n",
       "      <td>2004</td>\n",
       "      <td>142</td>\n",
       "      <td>130000000</td>\n",
       "      <td>796700000</td>\n",
       "      <td>666700000</td>\n",
       "    </tr>\n",
       "    <tr>\n",
       "      <th>3</th>\n",
       "      <td>4</td>\n",
       "      <td>Harry Potter and the Goblet of Fire</td>\n",
       "      <td>2005</td>\n",
       "      <td>157</td>\n",
       "      <td>150000000</td>\n",
       "      <td>896400000</td>\n",
       "      <td>746400000</td>\n",
       "    </tr>\n",
       "    <tr>\n",
       "      <th>4</th>\n",
       "      <td>5</td>\n",
       "      <td>Harry Potter and the Order of the Phoenix</td>\n",
       "      <td>2007</td>\n",
       "      <td>138</td>\n",
       "      <td>150000000</td>\n",
       "      <td>942000000</td>\n",
       "      <td>792000000</td>\n",
       "    </tr>\n",
       "    <tr>\n",
       "      <th>5</th>\n",
       "      <td>6</td>\n",
       "      <td>Harry Potter and the Half-Blood Prince</td>\n",
       "      <td>2009</td>\n",
       "      <td>153</td>\n",
       "      <td>250000000</td>\n",
       "      <td>943200000</td>\n",
       "      <td>693200000</td>\n",
       "    </tr>\n",
       "    <tr>\n",
       "      <th>6</th>\n",
       "      <td>7</td>\n",
       "      <td>Harry Potter and the Deathly Hallows Part 1</td>\n",
       "      <td>2010</td>\n",
       "      <td>146</td>\n",
       "      <td>200000000</td>\n",
       "      <td>976900000</td>\n",
       "      <td>776900000</td>\n",
       "    </tr>\n",
       "    <tr>\n",
       "      <th>7</th>\n",
       "      <td>8</td>\n",
       "      <td>Harry Potter and the Deathly Hallows Part 2</td>\n",
       "      <td>2011</td>\n",
       "      <td>130</td>\n",
       "      <td>250000000</td>\n",
       "      <td>1342000000</td>\n",
       "      <td>1092000000</td>\n",
       "    </tr>\n",
       "  </tbody>\n",
       "</table>\n",
       "</div>"
      ],
      "text/plain": [
       "   Movie ID                                  Movie Title  Release Year  \\\n",
       "0         1     Harry Potter and the Philosopher's Stone          2001   \n",
       "1         2      Harry Potter and the Chamber of Secrets          2002   \n",
       "2         3     Harry Potter and the Prisoner of Azkaban          2004   \n",
       "3         4          Harry Potter and the Goblet of Fire          2005   \n",
       "4         5    Harry Potter and the Order of the Phoenix          2007   \n",
       "5         6       Harry Potter and the Half-Blood Prince          2009   \n",
       "6         7  Harry Potter and the Deathly Hallows Part 1          2010   \n",
       "7         8  Harry Potter and the Deathly Hallows Part 2          2011   \n",
       "\n",
       "   Runtime     Budget  Box Office  Real Profit  \n",
       "0      152  125000000  1002000000    877000000  \n",
       "1      161  100000000   880300000    780300000  \n",
       "2      142  130000000   796700000    666700000  \n",
       "3      157  150000000   896400000    746400000  \n",
       "4      138  150000000   942000000    792000000  \n",
       "5      153  250000000   943200000    693200000  \n",
       "6      146  200000000   976900000    776900000  \n",
       "7      130  250000000  1342000000   1092000000  "
      ]
     },
     "execution_count": 42,
     "metadata": {},
     "output_type": "execute_result"
    }
   ],
   "source": [
    "df_movies.head(8)"
   ]
  }
 ],
 "metadata": {
  "interpreter": {
   "hash": "d4a23020e51e92420bebeba778ab3f9acdf78138040af273c62b07eb489d3429"
  },
  "kernelspec": {
   "display_name": "Python 3.9.1 64-bit",
   "language": "python",
   "name": "python3"
  },
  "language_info": {
   "codemirror_mode": {
    "name": "ipython",
    "version": 3
   },
   "file_extension": ".py",
   "mimetype": "text/x-python",
   "name": "python",
   "nbconvert_exporter": "python",
   "pygments_lexer": "ipython3",
   "version": "3.9.1"
  },
  "orig_nbformat": 4
 },
 "nbformat": 4,
 "nbformat_minor": 2
}
