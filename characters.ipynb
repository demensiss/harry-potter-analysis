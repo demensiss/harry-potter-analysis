{
 "cells": [
  {
   "cell_type": "markdown",
   "metadata": {},
   "source": [
    "# WPROWADZENIE\n",
    "\n",
    "**Źródło danych:** \n",
    "https://www.kaggle.com/maricinnamon/harry-potter-movies-dataset-starter-notebook/data\n",
    "\n",
    "**Wykorzystane pliki z setu:** \n",
    "* Characters.csv\n",
    "Jest to zbiór wszystkich postaci występujących w serii filmów o Harrym Poterze.\n",
    "\n",
    "**Tezy do sprawdzenia:**\n",
    "1. Ile postaci posiada to samo nazwisko? \n",
    "    * Jaki procent wszystkich postaci stanowi 5 najczęściej występujących nazwisk?\n",
    "    * Ile nazwisk występuje tylko raz?\n",
    "    * Czy to, że nie ma więcej osób o tym nazwisku oznacza, że były to drugoplanowe role? (potrzebny zbiór Dialogue.csv)\n",
    "2. Czy w serii o HP występuje parytet? \n",
    "    * Ile procent postaci to kobiety?\n",
    "    * Ile procent postaci to mężczyźni?\n",
    "3. Ile procent postaci należy do:\n",
    "    * Grifindor'u\n",
    "    * Slytherin'u\n",
    "    * Ravenclaw'u\n",
    "    * Hufflepuff'u\n",
    "4. Ile jest postaci o gatunku inny niż człowiek w serii o HP?\n",
    "    * jaki procent innych gatunków stanowią poszczególne inne gatunki?\n",
    "    * ile jest duchów?\n",
    "    * czy każdy dom ma swojego ducha?\n",
    "5. Ile postaci ma swojego patronusa?\n",
    "    * czy któryś patronus się powtarza?\n"
   ]
  },
  {
   "cell_type": "markdown",
   "metadata": {},
   "source": [
    "## PRZYGOTOWANIE IMPORTÓW I SPRAWDZENIE DANYCH:"
   ]
  },
  {
   "cell_type": "code",
   "execution_count": 51,
   "metadata": {},
   "outputs": [],
   "source": [
    "import pandas as pd\n",
    "import matplotlib as mpl\n",
    "import matplotlib.pyplot as plt\n",
    "import numpy as np\n",
    "import plotly.express as px\n",
    "\n",
    "characters = pd.read_csv('Harry_Potter_Movies\\Characters.csv')"
   ]
  },
  {
   "cell_type": "code",
   "execution_count": 24,
   "metadata": {},
   "outputs": [
    {
     "name": "stdout",
     "output_type": "stream",
     "text": [
      "<class 'pandas.core.frame.DataFrame'>\n",
      "RangeIndex: 166 entries, 0 to 165\n",
      "Data columns (total 8 columns):\n",
      " #   Column          Non-Null Count  Dtype \n",
      "---  ------          --------------  ----- \n",
      " 0   Character ID    166 non-null    int64 \n",
      " 1   Character Name  166 non-null    object\n",
      " 2   Species         125 non-null    object\n",
      " 3   Gender          125 non-null    object\n",
      " 4   House           75 non-null     object\n",
      " 5   Patronus        20 non-null     object\n",
      " 6   Wand (Wood)     21 non-null     object\n",
      " 7   Wand (Core)     18 non-null     object\n",
      "dtypes: int64(1), object(7)\n",
      "memory usage: 10.5+ KB\n"
     ]
    }
   ],
   "source": [
    "characters.info()"
   ]
  },
  {
   "cell_type": "code",
   "execution_count": 25,
   "metadata": {},
   "outputs": [
    {
     "data": {
      "text/html": [
       "<div>\n",
       "<style scoped>\n",
       "    .dataframe tbody tr th:only-of-type {\n",
       "        vertical-align: middle;\n",
       "    }\n",
       "\n",
       "    .dataframe tbody tr th {\n",
       "        vertical-align: top;\n",
       "    }\n",
       "\n",
       "    .dataframe thead th {\n",
       "        text-align: right;\n",
       "    }\n",
       "</style>\n",
       "<table border=\"1\" class=\"dataframe\">\n",
       "  <thead>\n",
       "    <tr style=\"text-align: right;\">\n",
       "      <th></th>\n",
       "      <th>Character ID</th>\n",
       "      <th>Character Name</th>\n",
       "      <th>Species</th>\n",
       "      <th>Gender</th>\n",
       "      <th>House</th>\n",
       "      <th>Patronus</th>\n",
       "      <th>Wand (Wood)</th>\n",
       "      <th>Wand (Core)</th>\n",
       "    </tr>\n",
       "  </thead>\n",
       "  <tbody>\n",
       "    <tr>\n",
       "      <th>7</th>\n",
       "      <td>8</td>\n",
       "      <td>Horace Slughorn</td>\n",
       "      <td>Human</td>\n",
       "      <td>Male</td>\n",
       "      <td>Slytherin</td>\n",
       "      <td>NaN</td>\n",
       "      <td>Cedar</td>\n",
       "      <td>Dragon Heartstring</td>\n",
       "    </tr>\n",
       "    <tr>\n",
       "      <th>53</th>\n",
       "      <td>54</td>\n",
       "      <td>Helena Ravenclaw</td>\n",
       "      <td>Ghost</td>\n",
       "      <td>Female</td>\n",
       "      <td>Ravenclaw</td>\n",
       "      <td>NaN</td>\n",
       "      <td>NaN</td>\n",
       "      <td>NaN</td>\n",
       "    </tr>\n",
       "    <tr>\n",
       "      <th>84</th>\n",
       "      <td>85</td>\n",
       "      <td>Poppy Pomfrey</td>\n",
       "      <td>Human</td>\n",
       "      <td>Female</td>\n",
       "      <td>NaN</td>\n",
       "      <td>NaN</td>\n",
       "      <td>NaN</td>\n",
       "      <td>NaN</td>\n",
       "    </tr>\n",
       "    <tr>\n",
       "      <th>73</th>\n",
       "      <td>74</td>\n",
       "      <td>Angelina Johnson</td>\n",
       "      <td>Human</td>\n",
       "      <td>Female</td>\n",
       "      <td>Gryffindor</td>\n",
       "      <td>NaN</td>\n",
       "      <td>NaN</td>\n",
       "      <td>NaN</td>\n",
       "    </tr>\n",
       "    <tr>\n",
       "      <th>19</th>\n",
       "      <td>20</td>\n",
       "      <td>Ginny Weasley</td>\n",
       "      <td>Human</td>\n",
       "      <td>Female</td>\n",
       "      <td>Gryffindor</td>\n",
       "      <td>Horse</td>\n",
       "      <td>NaN</td>\n",
       "      <td>NaN</td>\n",
       "    </tr>\n",
       "    <tr>\n",
       "      <th>66</th>\n",
       "      <td>67</td>\n",
       "      <td>Amos Diggory</td>\n",
       "      <td>Human</td>\n",
       "      <td>Male</td>\n",
       "      <td>NaN</td>\n",
       "      <td>NaN</td>\n",
       "      <td>NaN</td>\n",
       "      <td>NaN</td>\n",
       "    </tr>\n",
       "    <tr>\n",
       "      <th>101</th>\n",
       "      <td>102</td>\n",
       "      <td>Fenrir Greyback</td>\n",
       "      <td>Werewolf</td>\n",
       "      <td>Male</td>\n",
       "      <td>NaN</td>\n",
       "      <td>NaN</td>\n",
       "      <td>NaN</td>\n",
       "      <td>NaN</td>\n",
       "    </tr>\n",
       "  </tbody>\n",
       "</table>\n",
       "</div>"
      ],
      "text/plain": [
       "     Character ID    Character Name   Species  Gender       House Patronus  \\\n",
       "7               8   Horace Slughorn     Human    Male   Slytherin      NaN   \n",
       "53             54  Helena Ravenclaw     Ghost  Female   Ravenclaw      NaN   \n",
       "84             85     Poppy Pomfrey     Human  Female         NaN      NaN   \n",
       "73             74  Angelina Johnson     Human  Female  Gryffindor      NaN   \n",
       "19             20     Ginny Weasley     Human  Female  Gryffindor    Horse   \n",
       "66             67      Amos Diggory     Human    Male         NaN      NaN   \n",
       "101           102   Fenrir Greyback  Werewolf    Male         NaN      NaN   \n",
       "\n",
       "    Wand (Wood)         Wand (Core)  \n",
       "7         Cedar  Dragon Heartstring  \n",
       "53          NaN                 NaN  \n",
       "84          NaN                 NaN  \n",
       "73          NaN                 NaN  \n",
       "19          NaN                 NaN  \n",
       "66          NaN                 NaN  \n",
       "101         NaN                 NaN  "
      ]
     },
     "execution_count": 25,
     "metadata": {},
     "output_type": "execute_result"
    }
   ],
   "source": [
    "characters.sample(7)"
   ]
  },
  {
   "cell_type": "code",
   "execution_count": 26,
   "metadata": {},
   "outputs": [
    {
     "data": {
      "text/plain": [
       "Character ID        0\n",
       "Character Name      0\n",
       "Species            41\n",
       "Gender             41\n",
       "House              91\n",
       "Patronus          146\n",
       "Wand (Wood)       145\n",
       "Wand (Core)       148\n",
       "dtype: int64"
      ]
     },
     "execution_count": 26,
     "metadata": {},
     "output_type": "execute_result"
    }
   ],
   "source": [
    "characters.isnull().sum()"
   ]
  },
  {
   "cell_type": "markdown",
   "metadata": {},
   "source": [
    "## WNIOSKI PO WSTĘPNYM SPRAWDZENIU DANYCH:\n",
    "\n",
    "* Zbiór posiada 166 postaci o unikalnym ID postaci\n",
    "* Najwięcej informacji brakuje o rożdzkach i patronusach"
   ]
  },
  {
   "cell_type": "markdown",
   "metadata": {},
   "source": [
    "# ANALIZA"
   ]
  },
  {
   "cell_type": "markdown",
   "metadata": {},
   "source": [
    "## Ile postaci posiada to samo nazwisko? "
   ]
  },
  {
   "cell_type": "markdown",
   "metadata": {},
   "source": [
    "## Czy w serii o HP występuje parytet?"
   ]
  },
  {
   "cell_type": "markdown",
   "metadata": {},
   "source": [
    "Na początek sprawdzam jakie i w jakiej ilości występują wartości w kolumnie 'Gender' czyli płeć."
   ]
  },
  {
   "cell_type": "code",
   "execution_count": 27,
   "metadata": {},
   "outputs": [
    {
     "data": {
      "text/plain": [
       "Male      82\n",
       "Female    42\n",
       "Human      1\n",
       "Name: Gender, dtype: int64"
      ]
     },
     "execution_count": 27,
     "metadata": {},
     "output_type": "execute_result"
    }
   ],
   "source": [
    "characters['Gender'].value_counts()"
   ]
  },
  {
   "cell_type": "markdown",
   "metadata": {},
   "source": [
    "Pojawia się niespodzianka w postaci płci \"Human\". Występuje tylko jeden raz więc może to być błąd. Sprawdzam to szukając w kolumnie 'Gender' łańcucha znaków 'Human'."
   ]
  },
  {
   "cell_type": "code",
   "execution_count": 28,
   "metadata": {},
   "outputs": [
    {
     "data": {
      "text/html": [
       "<div>\n",
       "<style scoped>\n",
       "    .dataframe tbody tr th:only-of-type {\n",
       "        vertical-align: middle;\n",
       "    }\n",
       "\n",
       "    .dataframe tbody tr th {\n",
       "        vertical-align: top;\n",
       "    }\n",
       "\n",
       "    .dataframe thead th {\n",
       "        text-align: right;\n",
       "    }\n",
       "</style>\n",
       "<table border=\"1\" class=\"dataframe\">\n",
       "  <thead>\n",
       "    <tr style=\"text-align: right;\">\n",
       "      <th></th>\n",
       "      <th>Character ID</th>\n",
       "      <th>Character Name</th>\n",
       "      <th>Species</th>\n",
       "      <th>Gender</th>\n",
       "      <th>House</th>\n",
       "      <th>Patronus</th>\n",
       "      <th>Wand (Wood)</th>\n",
       "      <th>Wand (Core)</th>\n",
       "    </tr>\n",
       "  </thead>\n",
       "  <tbody>\n",
       "    <tr>\n",
       "      <th>46</th>\n",
       "      <td>47</td>\n",
       "      <td>Nearly Headless Nick</td>\n",
       "      <td>Ghost</td>\n",
       "      <td>Human</td>\n",
       "      <td>Gryffindor</td>\n",
       "      <td>NaN</td>\n",
       "      <td>NaN</td>\n",
       "      <td>NaN</td>\n",
       "    </tr>\n",
       "  </tbody>\n",
       "</table>\n",
       "</div>"
      ],
      "text/plain": [
       "    Character ID        Character Name Species Gender       House Patronus  \\\n",
       "46            47  Nearly Headless Nick   Ghost  Human  Gryffindor      NaN   \n",
       "\n",
       "   Wand (Wood) Wand (Core)  \n",
       "46         NaN         NaN  "
      ]
     },
     "execution_count": 28,
     "metadata": {},
     "output_type": "execute_result"
    }
   ],
   "source": [
    "characters[characters['Gender'].isin(['Human'])]"
   ]
  },
  {
   "cell_type": "markdown",
   "metadata": {},
   "source": [
    "Pojawia się na 46 pozycji Prawiebezgłowy Nick, który jest duchem Gryffindoru. Ewidentnie wkradł się błąd, ponieważ ta postać powinna zostać sklasyfikowana jako mężczyzna. \n",
    "Naprawię to jedną linijką kodu."
   ]
  },
  {
   "cell_type": "code",
   "execution_count": 30,
   "metadata": {},
   "outputs": [
    {
     "data": {
      "text/html": [
       "<div>\n",
       "<style scoped>\n",
       "    .dataframe tbody tr th:only-of-type {\n",
       "        vertical-align: middle;\n",
       "    }\n",
       "\n",
       "    .dataframe tbody tr th {\n",
       "        vertical-align: top;\n",
       "    }\n",
       "\n",
       "    .dataframe thead th {\n",
       "        text-align: right;\n",
       "    }\n",
       "</style>\n",
       "<table border=\"1\" class=\"dataframe\">\n",
       "  <thead>\n",
       "    <tr style=\"text-align: right;\">\n",
       "      <th></th>\n",
       "      <th>Character ID</th>\n",
       "      <th>Character Name</th>\n",
       "      <th>Species</th>\n",
       "      <th>Gender</th>\n",
       "      <th>House</th>\n",
       "      <th>Patronus</th>\n",
       "      <th>Wand (Wood)</th>\n",
       "      <th>Wand (Core)</th>\n",
       "    </tr>\n",
       "  </thead>\n",
       "  <tbody>\n",
       "    <tr>\n",
       "      <th>46</th>\n",
       "      <td>47</td>\n",
       "      <td>Nearly Headless Nick</td>\n",
       "      <td>Ghost</td>\n",
       "      <td>Male</td>\n",
       "      <td>Gryffindor</td>\n",
       "      <td>NaN</td>\n",
       "      <td>NaN</td>\n",
       "      <td>NaN</td>\n",
       "    </tr>\n",
       "  </tbody>\n",
       "</table>\n",
       "</div>"
      ],
      "text/plain": [
       "    Character ID        Character Name Species Gender       House Patronus  \\\n",
       "46            47  Nearly Headless Nick   Ghost   Male  Gryffindor      NaN   \n",
       "\n",
       "   Wand (Wood) Wand (Core)  \n",
       "46         NaN         NaN  "
      ]
     },
     "execution_count": 30,
     "metadata": {},
     "output_type": "execute_result"
    }
   ],
   "source": [
    "characters['Gender'].replace('Human', 'Male', inplace=True)\n",
    "characters.iloc[46:47,:]"
   ]
  },
  {
   "cell_type": "code",
   "execution_count": 31,
   "metadata": {},
   "outputs": [
    {
     "data": {
      "text/plain": [
       "Male      83\n",
       "Female    42\n",
       "Name: Gender, dtype: int64"
      ]
     },
     "execution_count": 31,
     "metadata": {},
     "output_type": "execute_result"
    }
   ],
   "source": [
    "characters['Gender'].value_counts()"
   ]
  },
  {
   "cell_type": "markdown",
   "metadata": {},
   "source": [
    "Po zmianie widać, że w tabeli są tylko dwa rodzaje płci Kobieta (Female) i Mężczyzna (Male). Na pierwszy rzut oka widać, że kobiet jest dwa razy mniej niż mężczyzn. Co potwierdza poniższy wykres."
   ]
  },
  {
   "cell_type": "markdown",
   "metadata": {},
   "source": [
    "## Ile procent postaci należy do konkretnego Domu?"
   ]
  },
  {
   "cell_type": "markdown",
   "metadata": {},
   "source": [
    "## Ile jest postaci o gatunku inny niż człowiek w serii o HP?"
   ]
  },
  {
   "cell_type": "markdown",
   "metadata": {},
   "source": [
    "W kolumnie Gatunek większość danych to ludzie.\n",
    "Natomiast w kolumnie Płeć oprócz klasycznego podziału na Męszczyznę i Kobietę pojawia się też Human.\n",
    "Przyjrzyjmy się dokładnie temu rekordowi."
   ]
  },
  {
   "cell_type": "code",
   "execution_count": null,
   "metadata": {},
   "outputs": [],
   "source": []
  },
  {
   "cell_type": "markdown",
   "metadata": {},
   "source": [
    "Okazuje się, że dziwną płeć ma duch - PrawieBezGłowy Nick. Wydaje mi się, że zdecydowanie powinien być to Male. Zmienię tę wartość, dzięki czemu dostaniemy dwuparametrowy podział danych ze względu na płeć."
   ]
  },
  {
   "cell_type": "code",
   "execution_count": null,
   "metadata": {},
   "outputs": [],
   "source": []
  }
 ],
 "metadata": {
  "interpreter": {
   "hash": "d4a23020e51e92420bebeba778ab3f9acdf78138040af273c62b07eb489d3429"
  },
  "kernelspec": {
   "display_name": "Python 3.9.1 64-bit",
   "language": "python",
   "name": "python3"
  },
  "language_info": {
   "codemirror_mode": {
    "name": "ipython",
    "version": 3
   },
   "file_extension": ".py",
   "mimetype": "text/x-python",
   "name": "python",
   "nbconvert_exporter": "python",
   "pygments_lexer": "ipython3",
   "version": "3.9.1"
  },
  "orig_nbformat": 4
 },
 "nbformat": 4,
 "nbformat_minor": 2
}
