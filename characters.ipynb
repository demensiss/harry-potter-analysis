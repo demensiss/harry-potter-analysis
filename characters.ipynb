{
 "cells": [
  {
   "cell_type": "markdown",
   "metadata": {},
   "source": [
    "# WPROWADZENIE\n",
    "\n",
    "**Źródło danych:** \n",
    "https://www.kaggle.com/maricinnamon/harry-potter-movies-dataset-starter-notebook/data\n",
    "\n",
    "**Wykorzystane pliki z setu:** \n",
    "* Characters.csv - jest to zbiór wszystkich postaci występujących w serii filmów o Harrym Poterze.\n",
    "\n",
    "**Dysponując takim zbiorem danych, chce sprawdzić:**\n",
    "1. Ile postaci posiada to samo nazwisko? \n",
    "    * Które 5 nazwisk występuje najczęściej?\n",
    "    * Ile nazwisk występuje tylko raz?\n",
    "    * Czy to, że nie ma więcej osób o tym nazwisku oznacza, że były to drugoplanowe role? (potrzebny zbiór Dialogue.csv)\n",
    "2. Czy w serii o HP występuje parytet? \n",
    "    * Ile procent postaci to kobiety?\n",
    "    * Ile procent postaci to mężczyźni?\n",
    "3. Ile procent postaci należy do:\n",
    "    * Grifindor'u\n",
    "    * Slytherin'u\n",
    "    * Ravenclaw'u\n",
    "    * Hufflepuff'u\n",
    "4. Ile jest postaci o gatunku inny niż człowiek w serii o HP?\n",
    "    * jaki procent innych gatunków stanowią poszczególne inne gatunki?\n",
    "    * ile jest duchów?\n",
    "    * czy każdy dom ma swojego ducha?\n",
    "5. Ile postaci ma swojego patronusa?\n",
    "    * czy któryś patronus się powtarza?\n"
   ]
  },
  {
   "cell_type": "markdown",
   "metadata": {},
   "source": [
    "## PRZYGOTOWANIE IMPORTÓW I SPRAWDZENIE DANYCH:"
   ]
  },
  {
   "cell_type": "code",
   "execution_count": 1327,
   "metadata": {},
   "outputs": [],
   "source": [
    "import pandas as pd\n",
    "import matplotlib as mpl\n",
    "import matplotlib.pyplot as plt\n",
    "import numpy as np\n",
    "\n",
    "df = pd.read_csv('Harry_Potter_Movies\\Characters.csv')"
   ]
  },
  {
   "cell_type": "code",
   "execution_count": 1328,
   "metadata": {},
   "outputs": [
    {
     "name": "stdout",
     "output_type": "stream",
     "text": [
      "<class 'pandas.core.frame.DataFrame'>\n",
      "RangeIndex: 166 entries, 0 to 165\n",
      "Data columns (total 8 columns):\n",
      " #   Column          Non-Null Count  Dtype \n",
      "---  ------          --------------  ----- \n",
      " 0   Character ID    166 non-null    int64 \n",
      " 1   Character Name  166 non-null    object\n",
      " 2   Species         125 non-null    object\n",
      " 3   Gender          125 non-null    object\n",
      " 4   House           75 non-null     object\n",
      " 5   Patronus        20 non-null     object\n",
      " 6   Wand (Wood)     21 non-null     object\n",
      " 7   Wand (Core)     18 non-null     object\n",
      "dtypes: int64(1), object(7)\n",
      "memory usage: 10.5+ KB\n"
     ]
    }
   ],
   "source": [
    "df.info()"
   ]
  },
  {
   "cell_type": "code",
   "execution_count": 1329,
   "metadata": {},
   "outputs": [
    {
     "data": {
      "text/html": [
       "<div>\n",
       "<style scoped>\n",
       "    .dataframe tbody tr th:only-of-type {\n",
       "        vertical-align: middle;\n",
       "    }\n",
       "\n",
       "    .dataframe tbody tr th {\n",
       "        vertical-align: top;\n",
       "    }\n",
       "\n",
       "    .dataframe thead th {\n",
       "        text-align: right;\n",
       "    }\n",
       "</style>\n",
       "<table border=\"1\" class=\"dataframe\">\n",
       "  <thead>\n",
       "    <tr style=\"text-align: right;\">\n",
       "      <th></th>\n",
       "      <th>Character ID</th>\n",
       "      <th>Character Name</th>\n",
       "      <th>Species</th>\n",
       "      <th>Gender</th>\n",
       "      <th>House</th>\n",
       "      <th>Patronus</th>\n",
       "      <th>Wand (Wood)</th>\n",
       "      <th>Wand (Core)</th>\n",
       "    </tr>\n",
       "  </thead>\n",
       "  <tbody>\n",
       "    <tr>\n",
       "      <th>91</th>\n",
       "      <td>92</td>\n",
       "      <td>Tom</td>\n",
       "      <td>Human</td>\n",
       "      <td>Male</td>\n",
       "      <td>NaN</td>\n",
       "      <td>NaN</td>\n",
       "      <td>NaN</td>\n",
       "      <td>NaN</td>\n",
       "    </tr>\n",
       "    <tr>\n",
       "      <th>97</th>\n",
       "      <td>98</td>\n",
       "      <td>Gellert Grindelwald</td>\n",
       "      <td>Human</td>\n",
       "      <td>Male</td>\n",
       "      <td>Durmstrang Institute</td>\n",
       "      <td>NaN</td>\n",
       "      <td>NaN</td>\n",
       "      <td>NaN</td>\n",
       "    </tr>\n",
       "    <tr>\n",
       "      <th>0</th>\n",
       "      <td>1</td>\n",
       "      <td>Harry Potter</td>\n",
       "      <td>Human</td>\n",
       "      <td>Male</td>\n",
       "      <td>Gryffindor</td>\n",
       "      <td>Stag</td>\n",
       "      <td>Holly</td>\n",
       "      <td>Phoenix Feather</td>\n",
       "    </tr>\n",
       "    <tr>\n",
       "      <th>103</th>\n",
       "      <td>104</td>\n",
       "      <td>Bathilda Bagshot</td>\n",
       "      <td>Human</td>\n",
       "      <td>Female</td>\n",
       "      <td>NaN</td>\n",
       "      <td>NaN</td>\n",
       "      <td>NaN</td>\n",
       "      <td>NaN</td>\n",
       "    </tr>\n",
       "    <tr>\n",
       "      <th>116</th>\n",
       "      <td>117</td>\n",
       "      <td>Bloody Baron</td>\n",
       "      <td>Ghost</td>\n",
       "      <td>Male</td>\n",
       "      <td>Slytherin</td>\n",
       "      <td>NaN</td>\n",
       "      <td>NaN</td>\n",
       "      <td>NaN</td>\n",
       "    </tr>\n",
       "    <tr>\n",
       "      <th>59</th>\n",
       "      <td>60</td>\n",
       "      <td>Marge Dursley</td>\n",
       "      <td>Human</td>\n",
       "      <td>Female</td>\n",
       "      <td>NaN</td>\n",
       "      <td>NaN</td>\n",
       "      <td>NaN</td>\n",
       "      <td>NaN</td>\n",
       "    </tr>\n",
       "    <tr>\n",
       "      <th>138</th>\n",
       "      <td>139</td>\n",
       "      <td>Man</td>\n",
       "      <td>NaN</td>\n",
       "      <td>NaN</td>\n",
       "      <td>NaN</td>\n",
       "      <td>NaN</td>\n",
       "      <td>NaN</td>\n",
       "      <td>NaN</td>\n",
       "    </tr>\n",
       "  </tbody>\n",
       "</table>\n",
       "</div>"
      ],
      "text/plain": [
       "     Character ID       Character Name Species  Gender                 House  \\\n",
       "91             92                  Tom   Human    Male                   NaN   \n",
       "97             98  Gellert Grindelwald   Human    Male  Durmstrang Institute   \n",
       "0               1         Harry Potter   Human    Male            Gryffindor   \n",
       "103           104     Bathilda Bagshot   Human  Female                   NaN   \n",
       "116           117         Bloody Baron   Ghost    Male             Slytherin   \n",
       "59             60        Marge Dursley   Human  Female                   NaN   \n",
       "138           139                  Man     NaN     NaN                   NaN   \n",
       "\n",
       "    Patronus Wand (Wood)      Wand (Core)  \n",
       "91       NaN         NaN              NaN  \n",
       "97       NaN         NaN              NaN  \n",
       "0       Stag       Holly  Phoenix Feather  \n",
       "103      NaN         NaN              NaN  \n",
       "116      NaN         NaN              NaN  \n",
       "59       NaN         NaN              NaN  \n",
       "138      NaN         NaN              NaN  "
      ]
     },
     "execution_count": 1329,
     "metadata": {},
     "output_type": "execute_result"
    }
   ],
   "source": [
    "df.sample(7)"
   ]
  },
  {
   "cell_type": "code",
   "execution_count": 1330,
   "metadata": {},
   "outputs": [
    {
     "data": {
      "text/plain": [
       "Character ID        0\n",
       "Character Name      0\n",
       "Species            41\n",
       "Gender             41\n",
       "House              91\n",
       "Patronus          146\n",
       "Wand (Wood)       145\n",
       "Wand (Core)       148\n",
       "dtype: int64"
      ]
     },
     "execution_count": 1330,
     "metadata": {},
     "output_type": "execute_result"
    }
   ],
   "source": [
    "df.isnull().sum()"
   ]
  },
  {
   "cell_type": "markdown",
   "metadata": {},
   "source": [
    "## WNIOSKI PO WSTĘPNYM SPRAWDZENIU DANYCH:\n",
    "\n",
    "* Zbiór posiada 166 postaci o unikalnym ID, dlatego ustawie na głównym DataFrame index właśnie na tę kolumnę\n",
    "* Najwięcej informacji brakuje o rożdzkach i patronusach"
   ]
  },
  {
   "cell_type": "code",
   "execution_count": 1331,
   "metadata": {},
   "outputs": [
    {
     "data": {
      "text/html": [
       "<div>\n",
       "<style scoped>\n",
       "    .dataframe tbody tr th:only-of-type {\n",
       "        vertical-align: middle;\n",
       "    }\n",
       "\n",
       "    .dataframe tbody tr th {\n",
       "        vertical-align: top;\n",
       "    }\n",
       "\n",
       "    .dataframe thead th {\n",
       "        text-align: right;\n",
       "    }\n",
       "</style>\n",
       "<table border=\"1\" class=\"dataframe\">\n",
       "  <thead>\n",
       "    <tr style=\"text-align: right;\">\n",
       "      <th></th>\n",
       "      <th>Character Name</th>\n",
       "      <th>Species</th>\n",
       "      <th>Gender</th>\n",
       "      <th>House</th>\n",
       "      <th>Patronus</th>\n",
       "      <th>Wand (Wood)</th>\n",
       "      <th>Wand (Core)</th>\n",
       "    </tr>\n",
       "    <tr>\n",
       "      <th>Character ID</th>\n",
       "      <th></th>\n",
       "      <th></th>\n",
       "      <th></th>\n",
       "      <th></th>\n",
       "      <th></th>\n",
       "      <th></th>\n",
       "      <th></th>\n",
       "    </tr>\n",
       "  </thead>\n",
       "  <tbody>\n",
       "    <tr>\n",
       "      <th>1</th>\n",
       "      <td>Harry Potter</td>\n",
       "      <td>Human</td>\n",
       "      <td>Male</td>\n",
       "      <td>Gryffindor</td>\n",
       "      <td>Stag</td>\n",
       "      <td>Holly</td>\n",
       "      <td>Phoenix Feather</td>\n",
       "    </tr>\n",
       "    <tr>\n",
       "      <th>2</th>\n",
       "      <td>Ron Weasley</td>\n",
       "      <td>Human</td>\n",
       "      <td>Male</td>\n",
       "      <td>Gryffindor</td>\n",
       "      <td>Jack Russell Terrier</td>\n",
       "      <td>NaN</td>\n",
       "      <td>NaN</td>\n",
       "    </tr>\n",
       "    <tr>\n",
       "      <th>3</th>\n",
       "      <td>Hermione Granger</td>\n",
       "      <td>Human</td>\n",
       "      <td>Female</td>\n",
       "      <td>Gryffindor</td>\n",
       "      <td>Otter</td>\n",
       "      <td>Vine</td>\n",
       "      <td>Dragon Heartstring</td>\n",
       "    </tr>\n",
       "    <tr>\n",
       "      <th>4</th>\n",
       "      <td>Albus Dumbledore</td>\n",
       "      <td>Human</td>\n",
       "      <td>Male</td>\n",
       "      <td>Gryffindor</td>\n",
       "      <td>Phoenix</td>\n",
       "      <td>Elder</td>\n",
       "      <td>Thestral Tail Hair</td>\n",
       "    </tr>\n",
       "    <tr>\n",
       "      <th>5</th>\n",
       "      <td>Rubeus Hagrid</td>\n",
       "      <td>Half-Human/Half-Giant</td>\n",
       "      <td>Male</td>\n",
       "      <td>Gryffindor</td>\n",
       "      <td>NaN</td>\n",
       "      <td>Oak</td>\n",
       "      <td>NaN</td>\n",
       "    </tr>\n",
       "    <tr>\n",
       "      <th>6</th>\n",
       "      <td>Severus Snape</td>\n",
       "      <td>Human</td>\n",
       "      <td>Male</td>\n",
       "      <td>Slytherin</td>\n",
       "      <td>Doe</td>\n",
       "      <td>NaN</td>\n",
       "      <td>NaN</td>\n",
       "    </tr>\n",
       "    <tr>\n",
       "      <th>7</th>\n",
       "      <td>Minerva McGonagall</td>\n",
       "      <td>Human</td>\n",
       "      <td>Female</td>\n",
       "      <td>Gryffindor</td>\n",
       "      <td>Cat</td>\n",
       "      <td>Fir</td>\n",
       "      <td>Dragon Heartstring</td>\n",
       "    </tr>\n",
       "    <tr>\n",
       "      <th>8</th>\n",
       "      <td>Horace Slughorn</td>\n",
       "      <td>Human</td>\n",
       "      <td>Male</td>\n",
       "      <td>Slytherin</td>\n",
       "      <td>NaN</td>\n",
       "      <td>Cedar</td>\n",
       "      <td>Dragon Heartstring</td>\n",
       "    </tr>\n",
       "    <tr>\n",
       "      <th>9</th>\n",
       "      <td>Voldemort</td>\n",
       "      <td>Human</td>\n",
       "      <td>Male</td>\n",
       "      <td>Slytherin</td>\n",
       "      <td>NaN</td>\n",
       "      <td>Yew</td>\n",
       "      <td>Phoenix Feather</td>\n",
       "    </tr>\n",
       "    <tr>\n",
       "      <th>10</th>\n",
       "      <td>Neville Longbottom</td>\n",
       "      <td>Human</td>\n",
       "      <td>Male</td>\n",
       "      <td>Gryffindor</td>\n",
       "      <td>NaN</td>\n",
       "      <td>Cherry</td>\n",
       "      <td>Unicorn Hair</td>\n",
       "    </tr>\n",
       "  </tbody>\n",
       "</table>\n",
       "</div>"
      ],
      "text/plain": [
       "                  Character Name                Species  Gender       House  \\\n",
       "Character ID                                                                  \n",
       "1                   Harry Potter                  Human    Male  Gryffindor   \n",
       "2                    Ron Weasley                  Human    Male  Gryffindor   \n",
       "3               Hermione Granger                  Human  Female  Gryffindor   \n",
       "4               Albus Dumbledore                  Human    Male  Gryffindor   \n",
       "5                  Rubeus Hagrid  Half-Human/Half-Giant    Male  Gryffindor   \n",
       "6                  Severus Snape                  Human    Male   Slytherin   \n",
       "7             Minerva McGonagall                  Human  Female  Gryffindor   \n",
       "8                Horace Slughorn                  Human    Male   Slytherin   \n",
       "9                      Voldemort                  Human    Male   Slytherin   \n",
       "10            Neville Longbottom                  Human    Male  Gryffindor   \n",
       "\n",
       "                          Patronus Wand (Wood)         Wand (Core)  \n",
       "Character ID                                                        \n",
       "1                             Stag       Holly     Phoenix Feather  \n",
       "2             Jack Russell Terrier         NaN                 NaN  \n",
       "3                            Otter        Vine  Dragon Heartstring  \n",
       "4                          Phoenix       Elder  Thestral Tail Hair  \n",
       "5                              NaN         Oak                 NaN  \n",
       "6                              Doe         NaN                 NaN  \n",
       "7                              Cat         Fir  Dragon Heartstring  \n",
       "8                              NaN       Cedar  Dragon Heartstring  \n",
       "9                              NaN         Yew     Phoenix Feather  \n",
       "10                             NaN      Cherry        Unicorn Hair  "
      ]
     },
     "execution_count": 1331,
     "metadata": {},
     "output_type": "execute_result"
    }
   ],
   "source": [
    "df.set_index('Character ID', inplace=True)\n",
    "df.head(10)"
   ]
  },
  {
   "cell_type": "markdown",
   "metadata": {},
   "source": [
    "# ANALIZA"
   ]
  },
  {
   "cell_type": "markdown",
   "metadata": {},
   "source": [
    "## Ile postaci posiada to samo nazwisko? "
   ]
  },
  {
   "cell_type": "markdown",
   "metadata": {},
   "source": [
    "Aby znaleźć odpowiedź na powyższe pytanie, należy najpierw wybrać z całego zbioru postacie z gatunku Człowiek i usunąć pozycję w których nie ma określonej płci. Z tego co sprawdziłam w takich wypadkach, są to postacie określane jako np. Studenci, Dziewczyny itp., więc dla tych rekordów i tak nie uda mi się wyodrębnić nazwisk."
   ]
  },
  {
   "cell_type": "code",
   "execution_count": 1332,
   "metadata": {},
   "outputs": [
    {
     "name": "stdout",
     "output_type": "stream",
     "text": [
      "<class 'pandas.core.frame.DataFrame'>\n",
      "Int64Index: 125 entries, 1 to 125\n",
      "Data columns (total 2 columns):\n",
      " #   Column            Non-Null Count  Dtype \n",
      "---  ------            --------------  ----- \n",
      " 0   Name_and_Surname  125 non-null    object\n",
      " 1   Species           125 non-null    object\n",
      "dtypes: object(2)\n",
      "memory usage: 2.9+ KB\n"
     ]
    }
   ],
   "source": [
    "# wybranie tylko postaci z gatunku Człowiek:\n",
    "only_human_name = {'Name_and_Surname': df['Character Name'], 'Species': df['Species']};\n",
    "df__human_name = pd.DataFrame(only_human_name)\n",
    "df__human_name[df__human_name['Species'].isin(['Human'])]\n",
    "df__human_name.dropna(axis='index', inplace=True)\n",
    "df__human_name.info()\n",
    "\n"
   ]
  },
  {
   "cell_type": "markdown",
   "metadata": {},
   "source": [
    "Otrzymałam listę 125 postaci, które na pewno są ludźmi.  \n",
    "Kolumnę \"Charakter Name\" rozdzielę na dwie kolumny: \"Name\" i \"Surname\". Separatorem w tym wypadku będzie spacja. "
   ]
  },
  {
   "cell_type": "code",
   "execution_count": 1333,
   "metadata": {},
   "outputs": [
    {
     "name": "stdout",
     "output_type": "stream",
     "text": [
      "<class 'pandas.core.frame.DataFrame'>\n",
      "Int64Index: 125 entries, 1 to 125\n",
      "Data columns (total 3 columns):\n",
      " #   Column   Non-Null Count  Dtype \n",
      "---  ------   --------------  ----- \n",
      " 0   name     125 non-null    object\n",
      " 1   surname  107 non-null    object\n",
      " 2   2        4 non-null      object\n",
      "dtypes: object(3)\n",
      "memory usage: 3.9+ KB\n"
     ]
    }
   ],
   "source": [
    "# rozdzielanie imienia i nazwiska na dwie kolumny:\n",
    "\n",
    "only_charakter_name = {'Name_and_Surname': df__human_name['Name_and_Surname']};\n",
    "temp_list = pd.DataFrame(only_charakter_name)\n",
    "split_list = pd.DataFrame(temp_list['Name_and_Surname'].str.split(\" \", expand=True))\n",
    "split_list.rename(columns={0: 'name', 1: 'surname'}, inplace=True)\n",
    "split_list.info()\n",
    "\n",
    "# inne rozwiązanie:\n",
    "# df__human_name.drop('Species', axis=1, inplace=True)\n",
    "# df__human_name.join(df__human_name.Name_and_Surname.str.extract('(?P<Name>\\S+)\\s+(?P<Surname>\\S+)', expand=True))"
   ]
  },
  {
   "cell_type": "markdown",
   "metadata": {},
   "source": [
    "Z listy 125 postaci gatunku Człowiek otrzymałam 107 nazwisk. Dodatkowo mam 4 rekordy, które miały jeszcze teskt po nazwisku. Sprawdzę co jest w tej kolumnie."
   ]
  },
  {
   "cell_type": "code",
   "execution_count": 1334,
   "metadata": {},
   "outputs": [
    {
     "data": {
      "text/plain": [
       "array([None, 'Sr.', 'Nick', 'Slitherin', 'Jr.'], dtype=object)"
      ]
     },
     "execution_count": 1334,
     "metadata": {},
     "output_type": "execute_result"
    }
   ],
   "source": [
    "split_list[2].unique()"
   ]
  },
  {
   "cell_type": "markdown",
   "metadata": {},
   "source": [
    "Jak widać powyżej informacje w tej kolumnie są bezużyteczne, dlatego usuwam całą kolumnę."
   ]
  },
  {
   "cell_type": "code",
   "execution_count": 1335,
   "metadata": {},
   "outputs": [
    {
     "name": "stdout",
     "output_type": "stream",
     "text": [
      "<class 'pandas.core.frame.DataFrame'>\n",
      "Int64Index: 125 entries, 1 to 125\n",
      "Data columns (total 1 columns):\n",
      " #   Column   Non-Null Count  Dtype \n",
      "---  ------   --------------  ----- \n",
      " 0   surname  107 non-null    object\n",
      "dtypes: object(1)\n",
      "memory usage: 2.0+ KB\n"
     ]
    }
   ],
   "source": [
    "del split_list[2]\n",
    "del split_list['name']\n",
    "split_list.info()"
   ]
  },
  {
   "cell_type": "markdown",
   "metadata": {},
   "source": [
    "Skoro już mamy wyczyszczone dane, czas na właściwą zabawę z danymi.\n",
    "Utworzę tabelę z samymi nazwiskami na której sprawdzę:\n",
    "* jakie nazwiska są w top 5 najczęściej występujących nazwisk?"
   ]
  },
  {
   "cell_type": "code",
   "execution_count": 1336,
   "metadata": {},
   "outputs": [
    {
     "data": {
      "image/png": "[encoded data removed]",
      "text/plain": [
       "<Figure size 432x288 with 1 Axes>"
      ]
     },
     "metadata": {
      "needs_background": "light"
     },
     "output_type": "display_data"
    }
   ],
   "source": [
    "surname = split_list['surname'].value_counts()\n",
    "top_five = pd.DataFrame({'TOP 5 Surname': ['Weasley', 'Dursley', 'Potter', 'Malfoy', 'Granger'], \n",
    "                        'Number of repeat': [8, 4, 4, 3, 3]}, \n",
    "                        index=None)\n",
    "plot = top_five.plot.bar(x='TOP 5 Surname', y='Number of repeat', rot=50)\n"
   ]
  },
  {
   "cell_type": "markdown",
   "metadata": {},
   "source": [
    "* ile nazwisk występuje tylko raz?"
   ]
  },
  {
   "cell_type": "code",
   "execution_count": 1337,
   "metadata": {},
   "outputs": [
    {
     "data": {
      "text/plain": [
       "counts of surname    73\n",
       "dtype: int64"
      ]
     },
     "execution_count": 1337,
     "metadata": {},
     "output_type": "execute_result"
    }
   ],
   "source": [
    "surname_df = split_list['surname'].value_counts().to_frame()\n",
    "surname_df.rename(columns={'surname': 'counts of surname'}, inplace=True)\n",
    "surname_df[surname_df['counts of surname'] == 1].sum()"
   ]
  },
  {
   "cell_type": "markdown",
   "metadata": {},
   "source": [
    "Z danych wynika, że 73 nazwiska ze 107 nazwisk postaci gatunku Człowiek występują tylko raz.\n",
    "Sprawdzę ile to będzie procent."
   ]
  },
  {
   "cell_type": "code",
   "execution_count": 1338,
   "metadata": {},
   "outputs": [
    {
     "data": {
      "text/html": [
       "<div>\n",
       "<style scoped>\n",
       "    .dataframe tbody tr th:only-of-type {\n",
       "        vertical-align: middle;\n",
       "    }\n",
       "\n",
       "    .dataframe tbody tr th {\n",
       "        vertical-align: top;\n",
       "    }\n",
       "\n",
       "    .dataframe thead th {\n",
       "        text-align: right;\n",
       "    }\n",
       "</style>\n",
       "<table border=\"1\" class=\"dataframe\">\n",
       "  <thead>\n",
       "    <tr style=\"text-align: right;\">\n",
       "      <th></th>\n",
       "      <th>Sum of all Human surname</th>\n",
       "      <th>Sum of surname one counts</th>\n",
       "      <th>percent</th>\n",
       "    </tr>\n",
       "  </thead>\n",
       "  <tbody>\n",
       "    <tr>\n",
       "      <th>counts of surname</th>\n",
       "      <td>107</td>\n",
       "      <td>73</td>\n",
       "      <td>68.224299</td>\n",
       "    </tr>\n",
       "  </tbody>\n",
       "</table>\n",
       "</div>"
      ],
      "text/plain": [
       "                   Sum of all Human surname  Sum of surname one counts  \\\n",
       "counts of surname                       107                         73   \n",
       "\n",
       "                     percent  \n",
       "counts of surname  68.224299  "
      ]
     },
     "execution_count": 1338,
     "metadata": {},
     "output_type": "execute_result"
    }
   ],
   "source": [
    "calculation_surname = {\n",
    "    'Sum of all Human surname': surname_df['counts of surname'].sum(),\n",
    "    'Sum of surname one counts': surname_df[surname_df['counts of surname'] == 1].sum()\n",
    "}\n",
    "calculation_surname\n",
    "percent_surname = pd.DataFrame(calculation_surname, columns=['Sum of all Human surname', 'Sum of surname one counts'])\n",
    "percent_surname['percent'] = ((percent_surname['Sum of surname one counts']/percent_surname['Sum of all Human surname'])*100)\n",
    "\n",
    "percent_surname"
   ]
  },
  {
   "cell_type": "markdown",
   "metadata": {},
   "source": [
    "Powyżej widać, że postaci, których nazwiska się nie powtarzają u innych postaci, czyli defacto nie mają/ nie mieli/lub jest nieznana w filmie ich rodzina stanowią 68,22% wszystkich postaci."
   ]
  },
  {
   "cell_type": "markdown",
   "metadata": {},
   "source": [
    "## Ile postaci, których nazwisko się nie powtarza w zbiorze, ma dialogi w filmie?"
   ]
  },
  {
   "cell_type": "markdown",
   "metadata": {},
   "source": [
    "Teraz chce sprawdzić czy z 73 postaci, których nazwiska się nie powtarzają w zbiorze postaci otrzymały w filmie swoje kwestie do wygłoszenia. Aby to zrobić potrzebuje jeszcze raz solidnie przygotować dane i złączyć je z tablą Dialogue. Obie tabele łączy kolumna \"Character ID\"."
   ]
  },
  {
   "cell_type": "code",
   "execution_count": 1339,
   "metadata": {},
   "outputs": [],
   "source": [
    "# 1. Pobranie tabel:\n",
    "df_characters = pd.read_csv('Harry_Potter_Movies\\Characters.csv')\n",
    "df_dialogue = pd.read_csv('Harry_Potter_Movies\\Dialogue.csv')"
   ]
  },
  {
   "cell_type": "markdown",
   "metadata": {},
   "source": [
    "### Przygotowanie danych z tabeli Characters.csv"
   ]
  },
  {
   "cell_type": "code",
   "execution_count": 1340,
   "metadata": {},
   "outputs": [
    {
     "name": "stdout",
     "output_type": "stream",
     "text": [
      "<class 'pandas.core.frame.DataFrame'>\n",
      "Int64Index: 107 entries, 0 to 124\n",
      "Data columns (total 7 columns):\n",
      " #   Column          Non-Null Count  Dtype   \n",
      "---  ------          --------------  -----   \n",
      " 0   Character ID    107 non-null    int64   \n",
      " 1   Character Name  107 non-null    object  \n",
      " 2   Species         107 non-null    category\n",
      " 3   Gender          107 non-null    category\n",
      " 4   Name            107 non-null    object  \n",
      " 5   Surname         107 non-null    object  \n",
      " 6   Dialogue ID     107 non-null    int64   \n",
      "dtypes: category(2), int64(2), object(3)\n",
      "memory usage: 5.5+ KB\n"
     ]
    }
   ],
   "source": [
    "# Usuwanie zbędnych kolumn\n",
    "df_characters.drop(['House', 'Patronus' ,'Wand (Wood)', 'Wand (Core)'], axis=1, inplace=True)\n",
    "\n",
    "# Usuwanie pustych pozycji\n",
    "df_characters.dropna(axis=0, how='any', inplace=True)\n",
    "\n",
    "# Uporządkowanie kolumny gatunków\n",
    "df_characters.loc[df_characters['Species'] != 'Human', 'Species'] = 'Other'\n",
    "\n",
    "# Uporządkowanie kolumny płci\n",
    "df_characters.loc[df_characters['Gender'] == 'Human', 'Gender'] = 'Male'\n",
    "\n",
    "# Ustawienie kategorii\n",
    "df_characters['Gender'] = df_characters['Gender'].astype('category')\n",
    "df_characters['Species'] = df_characters['Species'].astype('category')\n",
    "\n",
    "# Dodanie kolumn z samym nazwiskiem  \n",
    "df_characters['Name'] = df_characters['Character Name'].str.split(' ', expand=True)[0]\n",
    "df_characters['Surname'] = df_characters['Character Name'].str.split(' ', expand=True)[1]\n",
    "\n",
    "# Usuwanie pustych pozycji w kolumnie Surname\n",
    "df_characters.dropna(axis=0, how='any', inplace=True)\n",
    "\n",
    "# Dodanie kolumny z Dialog ID\n",
    "df_characters['Dialogue ID'] = 0\n",
    "\n",
    "df_characters.info()"
   ]
  },
  {
   "cell_type": "markdown",
   "metadata": {},
   "source": [
    "### Przygotowanie danych z tabeli Dialogue.csv"
   ]
  },
  {
   "cell_type": "code",
   "execution_count": 1341,
   "metadata": {},
   "outputs": [
    {
     "name": "stdout",
     "output_type": "stream",
     "text": [
      "<class 'pandas.core.frame.DataFrame'>\n",
      "RangeIndex: 7444 entries, 0 to 7443\n",
      "Data columns (total 2 columns):\n",
      " #   Column        Non-Null Count  Dtype\n",
      "---  ------        --------------  -----\n",
      " 0   Dialogue ID   7444 non-null   int64\n",
      " 1   Character ID  7444 non-null   int64\n",
      "dtypes: int64(2)\n",
      "memory usage: 116.4 KB\n"
     ]
    }
   ],
   "source": [
    "# Usuwanie niepotrzebnych kolumn\n",
    "df_dialogue.drop(['Chapter ID', 'Place ID' ,'Dialogue'], axis=1, inplace=True)\n",
    "df_dialogue.info()"
   ]
  },
  {
   "cell_type": "markdown",
   "metadata": {},
   "source": [
    "### Łączenie tabel Characters i Dialogue"
   ]
  },
  {
   "cell_type": "code",
   "execution_count": 1342,
   "metadata": {},
   "outputs": [],
   "source": [
    "# linked_table = pd.merge(df_characters, df_dialogue, on='Character ID', how='inner')\n",
    "# linked_table.info()"
   ]
  },
  {
   "cell_type": "markdown",
   "metadata": {},
   "source": [
    "## Czy w serii o HP występuje parytet?"
   ]
  },
  {
   "cell_type": "markdown",
   "metadata": {},
   "source": [
    "Na początek sprawdzam jakie i w jakiej ilości występują wartości w kolumnie 'Gender' czyli płeć."
   ]
  },
  {
   "cell_type": "code",
   "execution_count": 1343,
   "metadata": {},
   "outputs": [
    {
     "data": {
      "text/plain": [
       "Male      82\n",
       "Female    42\n",
       "Human      1\n",
       "Name: Gender, dtype: int64"
      ]
     },
     "execution_count": 1343,
     "metadata": {},
     "output_type": "execute_result"
    }
   ],
   "source": [
    "df['Gender'].value_counts()"
   ]
  },
  {
   "cell_type": "markdown",
   "metadata": {},
   "source": [
    "Pojawia się niespodzianka w postaci płci \"Human\". Występuje tylko jeden raz więc może to być błąd. Sprawdzam to szukając w kolumnie 'Gender' łańcucha znaków 'Human'."
   ]
  },
  {
   "cell_type": "code",
   "execution_count": 1344,
   "metadata": {},
   "outputs": [
    {
     "data": {
      "text/html": [
       "<div>\n",
       "<style scoped>\n",
       "    .dataframe tbody tr th:only-of-type {\n",
       "        vertical-align: middle;\n",
       "    }\n",
       "\n",
       "    .dataframe tbody tr th {\n",
       "        vertical-align: top;\n",
       "    }\n",
       "\n",
       "    .dataframe thead th {\n",
       "        text-align: right;\n",
       "    }\n",
       "</style>\n",
       "<table border=\"1\" class=\"dataframe\">\n",
       "  <thead>\n",
       "    <tr style=\"text-align: right;\">\n",
       "      <th></th>\n",
       "      <th>Character Name</th>\n",
       "      <th>Species</th>\n",
       "      <th>Gender</th>\n",
       "      <th>House</th>\n",
       "      <th>Patronus</th>\n",
       "      <th>Wand (Wood)</th>\n",
       "      <th>Wand (Core)</th>\n",
       "    </tr>\n",
       "    <tr>\n",
       "      <th>Character ID</th>\n",
       "      <th></th>\n",
       "      <th></th>\n",
       "      <th></th>\n",
       "      <th></th>\n",
       "      <th></th>\n",
       "      <th></th>\n",
       "      <th></th>\n",
       "    </tr>\n",
       "  </thead>\n",
       "  <tbody>\n",
       "    <tr>\n",
       "      <th>47</th>\n",
       "      <td>Nearly Headless Nick</td>\n",
       "      <td>Ghost</td>\n",
       "      <td>Human</td>\n",
       "      <td>Gryffindor</td>\n",
       "      <td>NaN</td>\n",
       "      <td>NaN</td>\n",
       "      <td>NaN</td>\n",
       "    </tr>\n",
       "  </tbody>\n",
       "</table>\n",
       "</div>"
      ],
      "text/plain": [
       "                    Character Name Species Gender       House Patronus  \\\n",
       "Character ID                                                             \n",
       "47            Nearly Headless Nick   Ghost  Human  Gryffindor      NaN   \n",
       "\n",
       "             Wand (Wood) Wand (Core)  \n",
       "Character ID                          \n",
       "47                   NaN         NaN  "
      ]
     },
     "execution_count": 1344,
     "metadata": {},
     "output_type": "execute_result"
    }
   ],
   "source": [
    "df[df['Gender'].isin(['Human'])]"
   ]
  },
  {
   "cell_type": "markdown",
   "metadata": {},
   "source": [
    "Na 46 pozycji pojawia się Prawiebezgłowy Nick, który jest duchem Gryffindoru. \n",
    "Ewidentnie wkradł się błąd, ponieważ ta postać powinna zostać sklasyfikowana jako mężczyzna. \n",
    "Naprawię to jedną linijką kodu."
   ]
  },
  {
   "cell_type": "code",
   "execution_count": 1345,
   "metadata": {},
   "outputs": [
    {
     "data": {
      "text/html": [
       "<div>\n",
       "<style scoped>\n",
       "    .dataframe tbody tr th:only-of-type {\n",
       "        vertical-align: middle;\n",
       "    }\n",
       "\n",
       "    .dataframe tbody tr th {\n",
       "        vertical-align: top;\n",
       "    }\n",
       "\n",
       "    .dataframe thead th {\n",
       "        text-align: right;\n",
       "    }\n",
       "</style>\n",
       "<table border=\"1\" class=\"dataframe\">\n",
       "  <thead>\n",
       "    <tr style=\"text-align: right;\">\n",
       "      <th></th>\n",
       "      <th>Character Name</th>\n",
       "      <th>Species</th>\n",
       "      <th>Gender</th>\n",
       "      <th>House</th>\n",
       "      <th>Patronus</th>\n",
       "      <th>Wand (Wood)</th>\n",
       "      <th>Wand (Core)</th>\n",
       "    </tr>\n",
       "    <tr>\n",
       "      <th>Character ID</th>\n",
       "      <th></th>\n",
       "      <th></th>\n",
       "      <th></th>\n",
       "      <th></th>\n",
       "      <th></th>\n",
       "      <th></th>\n",
       "      <th></th>\n",
       "    </tr>\n",
       "  </thead>\n",
       "  <tbody>\n",
       "    <tr>\n",
       "      <th>47</th>\n",
       "      <td>Nearly Headless Nick</td>\n",
       "      <td>Ghost</td>\n",
       "      <td>Male</td>\n",
       "      <td>Gryffindor</td>\n",
       "      <td>NaN</td>\n",
       "      <td>NaN</td>\n",
       "      <td>NaN</td>\n",
       "    </tr>\n",
       "  </tbody>\n",
       "</table>\n",
       "</div>"
      ],
      "text/plain": [
       "                    Character Name Species Gender       House Patronus  \\\n",
       "Character ID                                                             \n",
       "47            Nearly Headless Nick   Ghost   Male  Gryffindor      NaN   \n",
       "\n",
       "             Wand (Wood) Wand (Core)  \n",
       "Character ID                          \n",
       "47                   NaN         NaN  "
      ]
     },
     "execution_count": 1345,
     "metadata": {},
     "output_type": "execute_result"
    }
   ],
   "source": [
    "df['Gender'].replace('Human', 'Male', inplace=True)\n",
    "df.iloc[46:47,:]"
   ]
  },
  {
   "cell_type": "code",
   "execution_count": 1346,
   "metadata": {},
   "outputs": [
    {
     "data": {
      "text/plain": [
       "Male      83\n",
       "Female    42\n",
       "Name: Gender, dtype: int64"
      ]
     },
     "execution_count": 1346,
     "metadata": {},
     "output_type": "execute_result"
    }
   ],
   "source": [
    "df['Gender'].value_counts()"
   ]
  },
  {
   "cell_type": "markdown",
   "metadata": {},
   "source": [
    "Po zmianie widać, że w tabeli są tylko dwa rodzaje płci Kobieta (Female) i Mężczyzna (Male). Na pierwszy rzut oka widać, że kobiet jest dwa razy mniej niż mężczyzn. Co potwierdza poniższy wykres."
   ]
  },
  {
   "cell_type": "code",
   "execution_count": 1347,
   "metadata": {},
   "outputs": [
    {
     "data": {
      "text/plain": [
       "Text(0.5, 1.0, 'Płeć postaci w serii Harry Potter')"
      ]
     },
     "execution_count": 1347,
     "metadata": {},
     "output_type": "execute_result"
    },
    {
     "data": {
      "image/png": "[encoded data removed]",
      "text/plain": [
       "<Figure size 360x360 with 1 Axes>"
      ]
     },
     "metadata": {},
     "output_type": "display_data"
    }
   ],
   "source": [
    "gender = df['Gender'].value_counts();\n",
    "\n",
    "plot = gender.plot.pie(\n",
    "    figsize=(5,5), \n",
    "    legend=True, \n",
    "    fontsize=20,\n",
    "    colors=['#a2d5c1', '#4aa682'],\n",
    "    autopct = '%1.2f%%',\n",
    "    explode=(0.030,0),\n",
    "    startangle = 90,\n",
    "    );\n",
    "plt.title('Płeć postaci w serii Harry Potter')"
   ]
  },
  {
   "cell_type": "markdown",
   "metadata": {},
   "source": [
    "## Ile procent postaci należy do konkretnego Domu?"
   ]
  },
  {
   "cell_type": "markdown",
   "metadata": {},
   "source": [
    "Aby to sprawdzić potrzebuje tabeli, która będzie zawierać Character Name i House."
   ]
  },
  {
   "cell_type": "code",
   "execution_count": 1348,
   "metadata": {},
   "outputs": [
    {
     "name": "stdout",
     "output_type": "stream",
     "text": [
      "<class 'pandas.core.frame.DataFrame'>\n",
      "Int64Index: 166 entries, 1 to 166\n",
      "Data columns (total 2 columns):\n",
      " #   Column          Non-Null Count  Dtype \n",
      "---  ------          --------------  ----- \n",
      " 0   Character Name  166 non-null    object\n",
      " 1   House           75 non-null     object\n",
      "dtypes: object(2)\n",
      "memory usage: 3.9+ KB\n"
     ]
    }
   ],
   "source": [
    "df_house = df[['Character Name', 'House']].copy()\n",
    "df_house.info()"
   ]
  },
  {
   "cell_type": "markdown",
   "metadata": {},
   "source": [
    "Niestety informację o przynależności do domu mam tylko dla 75 postaci. Pozostałe muszę usunąć."
   ]
  },
  {
   "cell_type": "code",
   "execution_count": 1349,
   "metadata": {},
   "outputs": [],
   "source": [
    "df_house.dropna(inplace=True)"
   ]
  },
  {
   "cell_type": "markdown",
   "metadata": {},
   "source": [
    "Sprawszę jakie mam informacje w kolumnie House."
   ]
  },
  {
   "cell_type": "code",
   "execution_count": 1350,
   "metadata": {},
   "outputs": [
    {
     "data": {
      "text/plain": [
       "array(['Gryffindor', 'Slytherin', 'Ravenclaw', 'Hufflepuff',\n",
       "       'Beauxbatons Academy of Magic', 'Durmstrang Institute'],\n",
       "      dtype=object)"
      ]
     },
     "execution_count": 1350,
     "metadata": {},
     "output_type": "execute_result"
    }
   ],
   "source": [
    "df_house['House'].unique()"
   ]
  },
  {
   "cell_type": "markdown",
   "metadata": {},
   "source": [
    "Nie interesują mnie postaci z Beauxbatons Academy of Magic i Durmstrang Institute, więc je usunę a następnie ustale, że ta kolumna będzie klasyfikowana jako katergorie."
   ]
  },
  {
   "cell_type": "code",
   "execution_count": 1351,
   "metadata": {},
   "outputs": [],
   "source": [
    "# Usunięcie niepotrzebnych wierszy:\n",
    "df_house.set_index('House', inplace=True)\n",
    "df_house.drop('Durmstrang Institute', inplace=True)\n",
    "df_house.drop('Beauxbatons Academy of Magic', inplace=True)\n",
    "df_house.reset_index(inplace=True)\n",
    "df_house['House'] = df_house['House'].astype('category')"
   ]
  },
  {
   "cell_type": "code",
   "execution_count": 1352,
   "metadata": {},
   "outputs": [
    {
     "data": {
      "image/png": "[encoded data removed]",
      "text/plain": [
       "<Figure size 432x288 with 1 Axes>"
      ]
     },
     "metadata": {
      "needs_background": "light"
     },
     "output_type": "display_data"
    }
   ],
   "source": [
    "plot_bar = df_house['House'].value_counts().to_frame().rename(columns={'House': 'Counts for House'}).plot.bar()\n",
    "\n"
   ]
  },
  {
   "cell_type": "code",
   "execution_count": 1353,
   "metadata": {},
   "outputs": [
    {
     "data": {
      "image/png": "[encoded data removed]",
      "text/plain": [
       "<Figure size 432x432 with 1 Axes>"
      ]
     },
     "metadata": {},
     "output_type": "display_data"
    }
   ],
   "source": [
    "plot_pie = df_house['House'].value_counts().plot.pie(\n",
    "    figsize=(6,6),  \n",
    "    fontsize=18,\n",
    "    colors=['#cd373c', '#16a221', '#1f8fe0', '#f5f60e'],\n",
    "    autopct = '%1.2f%%')"
   ]
  },
  {
   "cell_type": "markdown",
   "metadata": {},
   "source": [
    "## Ile jest postaci o gatunku inny niż człowiek w serii o HP?"
   ]
  }
 ],
 "metadata": {
  "interpreter": {
   "hash": "d4a23020e51e92420bebeba778ab3f9acdf78138040af273c62b07eb489d3429"
  },
  "kernelspec": {
   "display_name": "Python 3.9.1 64-bit",
   "language": "python",
   "name": "python3"
  },
  "language_info": {
   "codemirror_mode": {
    "name": "ipython",
    "version": 3
   },
   "file_extension": ".py",
   "mimetype": "text/x-python",
   "name": "python",
   "nbconvert_exporter": "python",
   "pygments_lexer": "ipython3",
   "version": "3.9.1"
  },
  "orig_nbformat": 4
 },
 "nbformat": 4,
 "nbformat_minor": 2
}
