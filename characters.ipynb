{
 "cells": [
  {
   "cell_type": "markdown",
   "metadata": {},
   "source": [
    "# Podstawowe informacje\n",
    "\n",
    "**Źródło danych:** \n",
    "https://www.kaggle.com/maricinnamon/harry-potter-movies-dataset-starter-notebook/data\n",
    "\n",
    "**Wykorzystane pliki z setu:** \n",
    "* Characters.csv - jest to zbiór wszystkich postaci występujących w serii filmów o Harrym Poterze.\n",
    "\n",
    "**Dysponując takim zbiorem danych, chce sprawdzić:**\n",
    "1. Ile postaci posiada to samo nazwisko?\n",
    "2. Ile nazwisk występuje tylko raz?\n",
    "3. Które 5 nazwisk występuje najczęściej?\n",
    "4. Ile procent postaci to kobiety, a ile mężczyzni?"
   ]
  },
  {
   "cell_type": "markdown",
   "metadata": {},
   "source": [
    "## Analiza pliku\n",
    "\n",
    "### Importowanie bibliotek"
   ]
  },
  {
   "cell_type": "code",
   "execution_count": 61,
   "metadata": {},
   "outputs": [],
   "source": [
    "import pandas as pd\n",
    "import matplotlib.pyplot as plt"
   ]
  },
  {
   "cell_type": "markdown",
   "metadata": {},
   "source": [
    "### Przygotowanie danych z tabeli Characters.csv"
   ]
  },
  {
   "cell_type": "code",
   "execution_count": 62,
   "metadata": {},
   "outputs": [],
   "source": [
    "# 1. Pobranie tabel:\n",
    "df_characters = pd.read_csv('Harry_Potter_Movies\\Characters.csv')\n",
    "df_dialogue = pd.read_csv('Harry_Potter_Movies\\Dialogue.csv')"
   ]
  },
  {
   "cell_type": "code",
   "execution_count": 63,
   "metadata": {},
   "outputs": [
    {
     "name": "stdout",
     "output_type": "stream",
     "text": [
      "<class 'pandas.core.frame.DataFrame'>\n",
      "Int64Index: 107 entries, 0 to 124\n",
      "Data columns (total 6 columns):\n",
      " #   Column          Non-Null Count  Dtype   \n",
      "---  ------          --------------  -----   \n",
      " 0   Character ID    107 non-null    int64   \n",
      " 1   Character Name  107 non-null    object  \n",
      " 2   Species         107 non-null    category\n",
      " 3   Gender          107 non-null    category\n",
      " 4   Name            107 non-null    object  \n",
      " 5   Surname         107 non-null    object  \n",
      "dtypes: category(2), int64(1), object(3)\n",
      "memory usage: 4.6+ KB\n"
     ]
    }
   ],
   "source": [
    "# Usuwanie zbędnych kolumn\n",
    "df_characters.drop(['House', 'Patronus' ,'Wand (Wood)', 'Wand (Core)'], axis=1, inplace=True)\n",
    "\n",
    "# Usuwanie pustych pozycji\n",
    "df_characters.dropna(axis=0, how='any', inplace=True)\n",
    "\n",
    "# Uporządkowanie kolumny gatunków\n",
    "df_characters.loc[df_characters['Species'] != 'Human', 'Species'] = 'Other'\n",
    "\n",
    "# Uporządkowanie kolumny płci\n",
    "df_characters.loc[df_characters['Gender'] == 'Human', 'Gender'] = 'Male'\n",
    "\n",
    "# Ustawienie kategorii\n",
    "df_characters['Gender'] = df_characters['Gender'].astype('category')\n",
    "df_characters['Species'] = df_characters['Species'].astype('category')\n",
    "\n",
    "# Dodanie kolumn z samym nazwiskiem  \n",
    "df_characters['Name'] = df_characters['Character Name'].str.split(' ', expand=True)[0]\n",
    "df_characters['Surname'] = df_characters['Character Name'].str.split(' ', expand=True)[1]\n",
    "\n",
    "# Usuwanie pustych pozycji w kolumnie Surname\n",
    "df_characters.dropna(axis=0, how='any', inplace=True)\n",
    "\n",
    "df_characters.info()"
   ]
  },
  {
   "cell_type": "markdown",
   "metadata": {},
   "source": [
    "### Ile postaci posiada to samo nazwisko?"
   ]
  },
  {
   "cell_type": "code",
   "execution_count": 64,
   "metadata": {},
   "outputs": [
    {
     "data": {
      "text/plain": [
       "Surname    BlackLovegoodDumbledoreCrouchDiggoryPatilMalfo...\n",
       "counts                                                    34\n",
       "dtype: object"
      ]
     },
     "execution_count": 64,
     "metadata": {},
     "output_type": "execute_result"
    }
   ],
   "source": [
    "df_counts_surname = df_characters.groupby(['Surname']).size().reset_index(name='counts').sort_values('counts')\n",
    "\n",
    "df_counts_surname[df_counts_surname['counts'] > 1].sum()\n"
   ]
  },
  {
   "cell_type": "markdown",
   "metadata": {},
   "source": [
    "### Ile nazwisk występuje tylko raz?"
   ]
  },
  {
   "cell_type": "code",
   "execution_count": 65,
   "metadata": {},
   "outputs": [
    {
     "data": {
      "text/plain": [
       "Surname    BagshotPomfreyPettigrewParkinsonOllivanderMyrt...\n",
       "counts                                                    73\n",
       "dtype: object"
      ]
     },
     "execution_count": 65,
     "metadata": {},
     "output_type": "execute_result"
    }
   ],
   "source": [
    "df_counts_surname[df_counts_surname['counts'] == 1].sum()"
   ]
  },
  {
   "cell_type": "markdown",
   "metadata": {},
   "source": [
    "### Które 5 nazwisk występuje najczęściej?"
   ]
  },
  {
   "cell_type": "code",
   "execution_count": 66,
   "metadata": {},
   "outputs": [
    {
     "data": {
      "image/png": "[encoded data removed]",
      "text/plain": [
       "<Figure size 432x288 with 1 Axes>"
      ]
     },
     "metadata": {
      "needs_background": "light"
     },
     "output_type": "display_data"
    }
   ],
   "source": [
    "top_five_surname = df_characters.groupby(['Surname']).size().reset_index(name='counts').sort_values('counts', ascending=False)[0:5]\n",
    "plot = top_five_surname.plot.bar(x='Surname', y='counts', rot=50)\n"
   ]
  },
  {
   "cell_type": "markdown",
   "metadata": {},
   "source": [
    "### Ile procent postaci to mężczyzni, a ile kobiety?"
   ]
  },
  {
   "cell_type": "markdown",
   "metadata": {},
   "source": [
    "Po zmianie widać, że w tabeli są tylko dwa rodzaje płci Kobieta (Female) i Mężczyzna (Male). Na pierwszy rzut oka widać, że kobiet jest dwa razy mniej niż mężczyzn. Co potwierdza poniższy wykres."
   ]
  },
  {
   "cell_type": "code",
   "execution_count": 67,
   "metadata": {},
   "outputs": [
    {
     "data": {
      "text/plain": [
       "Text(0.5, 1.0, 'Podział % płci postaci w serii Harry Potter')"
      ]
     },
     "execution_count": 67,
     "metadata": {},
     "output_type": "execute_result"
    },
    {
     "data": {
      "image/png": "[encoded data removed]",
      "text/plain": [
       "<Figure size 360x360 with 1 Axes>"
      ]
     },
     "metadata": {},
     "output_type": "display_data"
    }
   ],
   "source": [
    "gender = df_characters['Gender'].value_counts();\n",
    "\n",
    "plot = gender.plot.pie(\n",
    "    figsize=(5,5), \n",
    "    legend=True, \n",
    "    fontsize=20,\n",
    "    colors=['#a2d5c1', '#4aa682'],\n",
    "    autopct = '%1.2f%%',\n",
    "    explode=(0.030,0),\n",
    "    startangle = 90,\n",
    "    );\n",
    "plt.title('Podział % płci postaci w serii Harry Potter')"
   ]
  },
  {
   "cell_type": "markdown",
   "metadata": {},
   "source": [
    "# Podsumowanie\n",
    "\n",
    "Po przeanalizowaniu pliku Characters zawierajacego informacje o postaciach występujących w serii filmów o Harrym Poterze udało mi się ustalić, że:\n",
    "* 73 nazwiska ze 107 nazwisk sklasyfikowanych jako gatunek Człowiek występuje tylko raz\n",
    "* 34 naziwska pojawiają się więcej niż raz\n",
    "* najwięcej postaci posiada nazwisko \"Weasley\" (8 razy) - patrz wykres powyżej\n",
    "* 63,55% postaci stanowią mężczyźni, a 36,45% Kobiety "
   ]
  }
 ],
 "metadata": {
  "interpreter": {
   "hash": "d4a23020e51e92420bebeba778ab3f9acdf78138040af273c62b07eb489d3429"
  },
  "kernelspec": {
   "display_name": "Python 3.9.1 64-bit",
   "language": "python",
   "name": "python3"
  },
  "language_info": {
   "codemirror_mode": {
    "name": "ipython",
    "version": 3
   },
   "file_extension": ".py",
   "mimetype": "text/x-python",
   "name": "python",
   "nbconvert_exporter": "python",
   "pygments_lexer": "ipython3",
   "version": "3.9.1"
  },
  "orig_nbformat": 4
 },
 "nbformat": 4,
 "nbformat_minor": 2
}
