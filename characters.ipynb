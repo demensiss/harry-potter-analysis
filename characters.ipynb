{
 "cells": [
  {
   "cell_type": "markdown",
   "metadata": {},
   "source": [
    "# WPROWADZENIE\n",
    "\n",
    "**Źródło danych:** \n",
    "https://www.kaggle.com/maricinnamon/harry-potter-movies-dataset-starter-notebook/data\n",
    "\n",
    "**Wykorzystane pliki z setu:** \n",
    "* Characters.csv\n",
    "Jest to zbiór wszystkich postaci występujących w serii filmów o Harrym Poterze.\n",
    "\n",
    "**Tezy do sprawdzenia:**\n",
    "1. Ile postaci posiada to samo nazwisko? \n",
    "    * Które 5 nazwisk występuje najczęściej?\n",
    "    * Ile nazwisk występuje tylko raz?\n",
    "    * Czy to, że nie ma więcej osób o tym nazwisku oznacza, że były to drugoplanowe role? (potrzebny zbiór Dialogue.csv)\n",
    "2. Czy w serii o HP występuje parytet? \n",
    "    * Ile procent postaci to kobiety?\n",
    "    * Ile procent postaci to mężczyźni?\n",
    "3. Ile procent postaci należy do:\n",
    "    * Grifindor'u\n",
    "    * Slytherin'u\n",
    "    * Ravenclaw'u\n",
    "    * Hufflepuff'u\n",
    "4. Ile jest postaci o gatunku inny niż człowiek w serii o HP?\n",
    "    * jaki procent innych gatunków stanowią poszczególne inne gatunki?\n",
    "    * ile jest duchów?\n",
    "    * czy każdy dom ma swojego ducha?\n",
    "5. Ile postaci ma swojego patronusa?\n",
    "    * czy któryś patronus się powtarza?\n"
   ]
  },
  {
   "cell_type": "markdown",
   "metadata": {},
   "source": [
    "## PRZYGOTOWANIE IMPORTÓW I SPRAWDZENIE DANYCH:"
   ]
  },
  {
   "cell_type": "code",
   "execution_count": 97,
   "metadata": {},
   "outputs": [],
   "source": [
    "import pandas as pd\n",
    "import matplotlib as mpl\n",
    "import matplotlib.pyplot as plt\n",
    "import numpy as np\n",
    "import plotly.express as px\n",
    "\n",
    "df = pd.read_csv('Harry_Potter_Movies\\Characters.csv')"
   ]
  },
  {
   "cell_type": "code",
   "execution_count": 98,
   "metadata": {},
   "outputs": [
    {
     "name": "stdout",
     "output_type": "stream",
     "text": [
      "<class 'pandas.core.frame.DataFrame'>\n",
      "RangeIndex: 166 entries, 0 to 165\n",
      "Data columns (total 8 columns):\n",
      " #   Column          Non-Null Count  Dtype \n",
      "---  ------          --------------  ----- \n",
      " 0   Character ID    166 non-null    int64 \n",
      " 1   Character Name  166 non-null    object\n",
      " 2   Species         125 non-null    object\n",
      " 3   Gender          125 non-null    object\n",
      " 4   House           75 non-null     object\n",
      " 5   Patronus        20 non-null     object\n",
      " 6   Wand (Wood)     21 non-null     object\n",
      " 7   Wand (Core)     18 non-null     object\n",
      "dtypes: int64(1), object(7)\n",
      "memory usage: 10.5+ KB\n"
     ]
    }
   ],
   "source": [
    "df.info()"
   ]
  },
  {
   "cell_type": "code",
   "execution_count": 99,
   "metadata": {},
   "outputs": [
    {
     "data": {
      "text/html": [
       "<div>\n",
       "<style scoped>\n",
       "    .dataframe tbody tr th:only-of-type {\n",
       "        vertical-align: middle;\n",
       "    }\n",
       "\n",
       "    .dataframe tbody tr th {\n",
       "        vertical-align: top;\n",
       "    }\n",
       "\n",
       "    .dataframe thead th {\n",
       "        text-align: right;\n",
       "    }\n",
       "</style>\n",
       "<table border=\"1\" class=\"dataframe\">\n",
       "  <thead>\n",
       "    <tr style=\"text-align: right;\">\n",
       "      <th></th>\n",
       "      <th>Character ID</th>\n",
       "      <th>Character Name</th>\n",
       "      <th>Species</th>\n",
       "      <th>Gender</th>\n",
       "      <th>House</th>\n",
       "      <th>Patronus</th>\n",
       "      <th>Wand (Wood)</th>\n",
       "      <th>Wand (Core)</th>\n",
       "    </tr>\n",
       "  </thead>\n",
       "  <tbody>\n",
       "    <tr>\n",
       "      <th>139</th>\n",
       "      <td>140</td>\n",
       "      <td>Woman</td>\n",
       "      <td>NaN</td>\n",
       "      <td>NaN</td>\n",
       "      <td>NaN</td>\n",
       "      <td>NaN</td>\n",
       "      <td>NaN</td>\n",
       "      <td>NaN</td>\n",
       "    </tr>\n",
       "    <tr>\n",
       "      <th>123</th>\n",
       "      <td>124</td>\n",
       "      <td>Marcus Belby</td>\n",
       "      <td>Human</td>\n",
       "      <td>Male</td>\n",
       "      <td>Ravenclaw</td>\n",
       "      <td>NaN</td>\n",
       "      <td>NaN</td>\n",
       "      <td>NaN</td>\n",
       "    </tr>\n",
       "    <tr>\n",
       "      <th>117</th>\n",
       "      <td>118</td>\n",
       "      <td>Ernest Macmillan</td>\n",
       "      <td>Human</td>\n",
       "      <td>Male</td>\n",
       "      <td>Hufflepuff</td>\n",
       "      <td>Boar</td>\n",
       "      <td>NaN</td>\n",
       "      <td>NaN</td>\n",
       "    </tr>\n",
       "    <tr>\n",
       "      <th>63</th>\n",
       "      <td>64</td>\n",
       "      <td>Bogrod</td>\n",
       "      <td>Goblin</td>\n",
       "      <td>Male</td>\n",
       "      <td>NaN</td>\n",
       "      <td>NaN</td>\n",
       "      <td>NaN</td>\n",
       "      <td>NaN</td>\n",
       "    </tr>\n",
       "    <tr>\n",
       "      <th>50</th>\n",
       "      <td>51</td>\n",
       "      <td>Rufus Scrimgeour</td>\n",
       "      <td>Human</td>\n",
       "      <td>Male</td>\n",
       "      <td>NaN</td>\n",
       "      <td>NaN</td>\n",
       "      <td>NaN</td>\n",
       "      <td>NaN</td>\n",
       "    </tr>\n",
       "    <tr>\n",
       "      <th>102</th>\n",
       "      <td>103</td>\n",
       "      <td>Magorian</td>\n",
       "      <td>Centaur</td>\n",
       "      <td>Male</td>\n",
       "      <td>NaN</td>\n",
       "      <td>NaN</td>\n",
       "      <td>NaN</td>\n",
       "      <td>NaN</td>\n",
       "    </tr>\n",
       "    <tr>\n",
       "      <th>108</th>\n",
       "      <td>109</td>\n",
       "      <td>Justin Finch-Fletchley</td>\n",
       "      <td>Human</td>\n",
       "      <td>Male</td>\n",
       "      <td>Hufflepuff</td>\n",
       "      <td>NaN</td>\n",
       "      <td>NaN</td>\n",
       "      <td>NaN</td>\n",
       "    </tr>\n",
       "  </tbody>\n",
       "</table>\n",
       "</div>"
      ],
      "text/plain": [
       "     Character ID          Character Name  Species Gender       House  \\\n",
       "139           140                   Woman      NaN    NaN         NaN   \n",
       "123           124            Marcus Belby    Human   Male   Ravenclaw   \n",
       "117           118        Ernest Macmillan    Human   Male  Hufflepuff   \n",
       "63             64                  Bogrod   Goblin   Male         NaN   \n",
       "50             51        Rufus Scrimgeour    Human   Male         NaN   \n",
       "102           103                Magorian  Centaur   Male         NaN   \n",
       "108           109  Justin Finch-Fletchley    Human   Male  Hufflepuff   \n",
       "\n",
       "    Patronus Wand (Wood) Wand (Core)  \n",
       "139      NaN         NaN         NaN  \n",
       "123      NaN         NaN         NaN  \n",
       "117     Boar         NaN         NaN  \n",
       "63       NaN         NaN         NaN  \n",
       "50       NaN         NaN         NaN  \n",
       "102      NaN         NaN         NaN  \n",
       "108      NaN         NaN         NaN  "
      ]
     },
     "execution_count": 99,
     "metadata": {},
     "output_type": "execute_result"
    }
   ],
   "source": [
    "df.sample(7)"
   ]
  },
  {
   "cell_type": "code",
   "execution_count": 100,
   "metadata": {},
   "outputs": [
    {
     "data": {
      "text/plain": [
       "Character ID        0\n",
       "Character Name      0\n",
       "Species            41\n",
       "Gender             41\n",
       "House              91\n",
       "Patronus          146\n",
       "Wand (Wood)       145\n",
       "Wand (Core)       148\n",
       "dtype: int64"
      ]
     },
     "execution_count": 100,
     "metadata": {},
     "output_type": "execute_result"
    }
   ],
   "source": [
    "df.isnull().sum()"
   ]
  },
  {
   "cell_type": "markdown",
   "metadata": {},
   "source": [
    "## WNIOSKI PO WSTĘPNYM SPRAWDZENIU DANYCH:\n",
    "\n",
    "* Zbiór posiada 166 postaci o unikalnym ID postaci\n",
    "* Najwięcej informacji brakuje o rożdzkach i patronusach"
   ]
  },
  {
   "cell_type": "markdown",
   "metadata": {},
   "source": [
    "# ANALIZA"
   ]
  },
  {
   "cell_type": "markdown",
   "metadata": {},
   "source": [
    "## Ile postaci posiada to samo nazwisko? "
   ]
  },
  {
   "cell_type": "markdown",
   "metadata": {},
   "source": [
    "Aby sprawdzić to założenie należy najpierw wybrać z całego zbioru postacie z gatunku Człowiek i usunąć pozycję w których nie ma określonej płci. Z tego co sprawdziłam w takich wypadkach, są to postacie określane jako np. Studenci, Dziewczyny itp. więc dla tych rekordów i tak nie uda nam się wyodrębnić nazwisk."
   ]
  },
  {
   "cell_type": "code",
   "execution_count": 101,
   "metadata": {},
   "outputs": [
    {
     "name": "stdout",
     "output_type": "stream",
     "text": [
      "<class 'pandas.core.frame.DataFrame'>\n",
      "Int64Index: 125 entries, 0 to 124\n",
      "Data columns (total 2 columns):\n",
      " #   Column            Non-Null Count  Dtype \n",
      "---  ------            --------------  ----- \n",
      " 0   Name_and_Surname  125 non-null    object\n",
      " 1   Species           125 non-null    object\n",
      "dtypes: object(2)\n",
      "memory usage: 2.9+ KB\n"
     ]
    }
   ],
   "source": [
    "# wybranie tylko postaci z gatunku Człowiek:\n",
    "only_human_name = {'Name_and_Surname': df['Character Name'], 'Species': df['Species']};\n",
    "df__human_name = pd.DataFrame(only_human_name)\n",
    "df__human_name[df__human_name['Species'].isin(['Human'])]\n",
    "df__human_name.dropna(axis='index', inplace=True)\n",
    "df__human_name.info()\n",
    "\n"
   ]
  },
  {
   "cell_type": "markdown",
   "metadata": {},
   "source": [
    "Otrzymałam listy 125 postaci, które na pewno są ludźmi.  \n",
    "Kolumnę \"Charakter Name\" rozdzielę na dwie kolumny: \"Name\" i \"Surname\". Separatorem w tym wypadku będzie spacja. "
   ]
  },
  {
   "cell_type": "code",
   "execution_count": 102,
   "metadata": {},
   "outputs": [
    {
     "name": "stdout",
     "output_type": "stream",
     "text": [
      "<class 'pandas.core.frame.DataFrame'>\n",
      "Int64Index: 125 entries, 0 to 124\n",
      "Data columns (total 3 columns):\n",
      " #   Column   Non-Null Count  Dtype \n",
      "---  ------   --------------  ----- \n",
      " 0   name     125 non-null    object\n",
      " 1   surname  107 non-null    object\n",
      " 2   2        4 non-null      object\n",
      "dtypes: object(3)\n",
      "memory usage: 3.9+ KB\n"
     ]
    }
   ],
   "source": [
    "# rozdzielanie imienia i nazwiska na dwie kolumny:\n",
    "\n",
    "only_charakter_name = {'Name_and_Surname': df__human_name['Name_and_Surname']};\n",
    "temp_list = pd.DataFrame(only_charakter_name)\n",
    "split_list = pd.DataFrame(temp_list['Name_and_Surname'].str.split(\" \", expand=True))\n",
    "split_list.rename(columns={0: 'name', 1: 'surname'}, inplace=True)\n",
    "split_list.info()"
   ]
  },
  {
   "cell_type": "markdown",
   "metadata": {},
   "source": [
    "Z listy 125 postaci gatunku Człowiek otrzymałam 107 nazwisk. Dodatkowo mam 4 rekordy, które miały jeszcze teskt po nazwisku. Sprawdzę co jest w tej kolumnie."
   ]
  },
  {
   "cell_type": "code",
   "execution_count": 103,
   "metadata": {},
   "outputs": [
    {
     "data": {
      "text/plain": [
       "array([None, 'Sr.', 'Nick', 'Slitherin', 'Jr.'], dtype=object)"
      ]
     },
     "execution_count": 103,
     "metadata": {},
     "output_type": "execute_result"
    }
   ],
   "source": [
    "split_list[2].unique()"
   ]
  },
  {
   "cell_type": "markdown",
   "metadata": {},
   "source": [
    "Jak widać powyżej informacje w tej kolumnie są bezużyteczne, dlatego usuwam całą kolumnę."
   ]
  },
  {
   "cell_type": "code",
   "execution_count": 104,
   "metadata": {},
   "outputs": [
    {
     "name": "stdout",
     "output_type": "stream",
     "text": [
      "<class 'pandas.core.frame.DataFrame'>\n",
      "Int64Index: 125 entries, 0 to 124\n",
      "Data columns (total 1 columns):\n",
      " #   Column   Non-Null Count  Dtype \n",
      "---  ------   --------------  ----- \n",
      " 0   surname  107 non-null    object\n",
      "dtypes: object(1)\n",
      "memory usage: 2.0+ KB\n"
     ]
    }
   ],
   "source": [
    "del split_list[2]\n",
    "del split_list['name']\n",
    "split_list.info()"
   ]
  },
  {
   "cell_type": "markdown",
   "metadata": {},
   "source": [
    "Skoro już mamy wyczyszczone dane, czas na właściwą zabawę z danymi.\n",
    "Utworzę tabelę z samymi nazwiskami na której sprawdzę:\n",
    "* jakie nazwiska są w top 5 najczęściej występujących nazwisk\n",
    "* ile nazwisk występuje tylko raz?"
   ]
  },
  {
   "cell_type": "code",
   "execution_count": 141,
   "metadata": {},
   "outputs": [
    {
     "data": {
      "image/png": "[encoded data removed]",
      "text/plain": [
       "<Figure size 432x288 with 1 Axes>"
      ]
     },
     "metadata": {
      "needs_background": "light"
     },
     "output_type": "display_data"
    }
   ],
   "source": [
    "surname = split_list['surname'].value_counts()\n",
    "top_five = pd.DataFrame({'TOP 5 Surname': ['Weasley', 'Dursley', 'Potter', 'Malfoy', 'Granger'], \n",
    "                        'Number of repeat': [8, 4, 4, 3, 3]}, \n",
    "                        index=None)\n",
    "plot = top_five.plot.bar(x='TOP 5 Surname', y='Number of repeat', rot=50)\n"
   ]
  },
  {
   "cell_type": "markdown",
   "metadata": {},
   "source": [
    "## Czy w serii o HP występuje parytet?"
   ]
  },
  {
   "cell_type": "markdown",
   "metadata": {},
   "source": [
    "Na początek sprawdzam jakie i w jakiej ilości występują wartości w kolumnie 'Gender' czyli płeć."
   ]
  },
  {
   "cell_type": "code",
   "execution_count": 106,
   "metadata": {},
   "outputs": [
    {
     "data": {
      "text/plain": [
       "Male      82\n",
       "Female    42\n",
       "Human      1\n",
       "Name: Gender, dtype: int64"
      ]
     },
     "execution_count": 106,
     "metadata": {},
     "output_type": "execute_result"
    }
   ],
   "source": [
    "df['Gender'].value_counts()"
   ]
  },
  {
   "cell_type": "markdown",
   "metadata": {},
   "source": [
    "Pojawia się niespodzianka w postaci płci \"Human\". Występuje tylko jeden raz więc może to być błąd. Sprawdzam to szukając w kolumnie 'Gender' łańcucha znaków 'Human'."
   ]
  },
  {
   "cell_type": "code",
   "execution_count": 107,
   "metadata": {},
   "outputs": [
    {
     "data": {
      "text/html": [
       "<div>\n",
       "<style scoped>\n",
       "    .dataframe tbody tr th:only-of-type {\n",
       "        vertical-align: middle;\n",
       "    }\n",
       "\n",
       "    .dataframe tbody tr th {\n",
       "        vertical-align: top;\n",
       "    }\n",
       "\n",
       "    .dataframe thead th {\n",
       "        text-align: right;\n",
       "    }\n",
       "</style>\n",
       "<table border=\"1\" class=\"dataframe\">\n",
       "  <thead>\n",
       "    <tr style=\"text-align: right;\">\n",
       "      <th></th>\n",
       "      <th>Character ID</th>\n",
       "      <th>Character Name</th>\n",
       "      <th>Species</th>\n",
       "      <th>Gender</th>\n",
       "      <th>House</th>\n",
       "      <th>Patronus</th>\n",
       "      <th>Wand (Wood)</th>\n",
       "      <th>Wand (Core)</th>\n",
       "    </tr>\n",
       "  </thead>\n",
       "  <tbody>\n",
       "    <tr>\n",
       "      <th>46</th>\n",
       "      <td>47</td>\n",
       "      <td>Nearly Headless Nick</td>\n",
       "      <td>Ghost</td>\n",
       "      <td>Human</td>\n",
       "      <td>Gryffindor</td>\n",
       "      <td>NaN</td>\n",
       "      <td>NaN</td>\n",
       "      <td>NaN</td>\n",
       "    </tr>\n",
       "  </tbody>\n",
       "</table>\n",
       "</div>"
      ],
      "text/plain": [
       "    Character ID        Character Name Species Gender       House Patronus  \\\n",
       "46            47  Nearly Headless Nick   Ghost  Human  Gryffindor      NaN   \n",
       "\n",
       "   Wand (Wood) Wand (Core)  \n",
       "46         NaN         NaN  "
      ]
     },
     "execution_count": 107,
     "metadata": {},
     "output_type": "execute_result"
    }
   ],
   "source": [
    "df[df['Gender'].isin(['Human'])]"
   ]
  },
  {
   "cell_type": "markdown",
   "metadata": {},
   "source": [
    "Na 46 pozycji pojawia się Prawiebezgłowy Nick, który jest duchem Gryffindoru. \n",
    "Ewidentnie wkradł się błąd, ponieważ ta postać powinna zostać sklasyfikowana jako mężczyzna. \n",
    "Naprawię to jedną linijką kodu."
   ]
  },
  {
   "cell_type": "code",
   "execution_count": 108,
   "metadata": {},
   "outputs": [
    {
     "data": {
      "text/html": [
       "<div>\n",
       "<style scoped>\n",
       "    .dataframe tbody tr th:only-of-type {\n",
       "        vertical-align: middle;\n",
       "    }\n",
       "\n",
       "    .dataframe tbody tr th {\n",
       "        vertical-align: top;\n",
       "    }\n",
       "\n",
       "    .dataframe thead th {\n",
       "        text-align: right;\n",
       "    }\n",
       "</style>\n",
       "<table border=\"1\" class=\"dataframe\">\n",
       "  <thead>\n",
       "    <tr style=\"text-align: right;\">\n",
       "      <th></th>\n",
       "      <th>Character ID</th>\n",
       "      <th>Character Name</th>\n",
       "      <th>Species</th>\n",
       "      <th>Gender</th>\n",
       "      <th>House</th>\n",
       "      <th>Patronus</th>\n",
       "      <th>Wand (Wood)</th>\n",
       "      <th>Wand (Core)</th>\n",
       "    </tr>\n",
       "  </thead>\n",
       "  <tbody>\n",
       "    <tr>\n",
       "      <th>46</th>\n",
       "      <td>47</td>\n",
       "      <td>Nearly Headless Nick</td>\n",
       "      <td>Ghost</td>\n",
       "      <td>Male</td>\n",
       "      <td>Gryffindor</td>\n",
       "      <td>NaN</td>\n",
       "      <td>NaN</td>\n",
       "      <td>NaN</td>\n",
       "    </tr>\n",
       "  </tbody>\n",
       "</table>\n",
       "</div>"
      ],
      "text/plain": [
       "    Character ID        Character Name Species Gender       House Patronus  \\\n",
       "46            47  Nearly Headless Nick   Ghost   Male  Gryffindor      NaN   \n",
       "\n",
       "   Wand (Wood) Wand (Core)  \n",
       "46         NaN         NaN  "
      ]
     },
     "execution_count": 108,
     "metadata": {},
     "output_type": "execute_result"
    }
   ],
   "source": [
    "df['Gender'].replace('Human', 'Male', inplace=True)\n",
    "df.iloc[46:47,:]"
   ]
  },
  {
   "cell_type": "code",
   "execution_count": 109,
   "metadata": {},
   "outputs": [
    {
     "data": {
      "text/plain": [
       "Male      83\n",
       "Female    42\n",
       "Name: Gender, dtype: int64"
      ]
     },
     "execution_count": 109,
     "metadata": {},
     "output_type": "execute_result"
    }
   ],
   "source": [
    "df['Gender'].value_counts()"
   ]
  },
  {
   "cell_type": "markdown",
   "metadata": {},
   "source": [
    "Po zmianie widać, że w tabeli są tylko dwa rodzaje płci Kobieta (Female) i Mężczyzna (Male). Na pierwszy rzut oka widać, że kobiet jest dwa razy mniej niż mężczyzn. Co potwierdza poniższy wykres."
   ]
  },
  {
   "cell_type": "code",
   "execution_count": 110,
   "metadata": {},
   "outputs": [
    {
     "data": {
      "text/plain": [
       "Text(0.5, 1.0, 'Płeć postaci w serii Harry Potter')"
      ]
     },
     "execution_count": 110,
     "metadata": {},
     "output_type": "execute_result"
    },
    {
     "data": {
      "image/png": "[encoded data removed]",
      "text/plain": [
       "<Figure size 360x360 with 1 Axes>"
      ]
     },
     "metadata": {},
     "output_type": "display_data"
    }
   ],
   "source": [
    "gender = df['Gender'].value_counts();\n",
    "\n",
    "plot = gender.plot.pie(\n",
    "    figsize=(5,5), \n",
    "    legend=True, \n",
    "    fontsize=20,\n",
    "    colors=['#a2d5c1', '#4aa682'],\n",
    "    autopct = '%1.2f%%',\n",
    "    explode=(0.030,0),\n",
    "    startangle = 90,\n",
    "    );\n",
    "plt.title('Płeć postaci w serii Harry Potter')"
   ]
  },
  {
   "cell_type": "markdown",
   "metadata": {},
   "source": [
    "## Ile procent postaci należy do konkretnego Domu?"
   ]
  },
  {
   "cell_type": "markdown",
   "metadata": {},
   "source": [
    "## Ile jest postaci o gatunku inny niż człowiek w serii o HP?"
   ]
  }
 ],
 "metadata": {
  "interpreter": {
   "hash": "d4a23020e51e92420bebeba778ab3f9acdf78138040af273c62b07eb489d3429"
  },
  "kernelspec": {
   "display_name": "Python 3.9.1 64-bit",
   "language": "python",
   "name": "python3"
  },
  "language_info": {
   "codemirror_mode": {
    "name": "ipython",
    "version": 3
   },
   "file_extension": ".py",
   "mimetype": "text/x-python",
   "name": "python",
   "nbconvert_exporter": "python",
   "pygments_lexer": "ipython3",
   "version": "3.9.1"
  },
  "orig_nbformat": 4
 },
 "nbformat": 4,
 "nbformat_minor": 2
}
